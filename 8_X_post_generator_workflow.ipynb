{
 "cells": [
  {
   "cell_type": "code",
   "execution_count": 2,
   "id": "dc65d34f",
   "metadata": {},
   "outputs": [],
   "source": [
    "from langgraph.graph import StateGraph, START, END\n",
    "from typing import TypedDict\n",
    "from langchain_openai import ChatOpenAI\n",
    "from dotenv import load_dotenv\n",
    "from langchain.prompts import PromptTemplate\n",
    "import os\n",
    "from pydantic import BaseModel, Field\n",
    "import operator\n",
    "from typing import Annotated, Literal\n",
    "from langchain_core.messages import SystemMessage, HumanMessage"
   ]
  },
  {
   "cell_type": "code",
   "execution_count": 3,
   "id": "1c9d05e9",
   "metadata": {},
   "outputs": [
    {
     "data": {
      "text/plain": [
       "True"
      ]
     },
     "execution_count": 3,
     "metadata": {},
     "output_type": "execute_result"
    }
   ],
   "source": [
    "load_dotenv()"
   ]
  },
  {
   "cell_type": "code",
   "execution_count": 4,
   "id": "292ec5d9",
   "metadata": {},
   "outputs": [],
   "source": [
    "generator_llm = ChatOpenAI(model=\"gpt-4o-mini\")\n",
    "evaluator_llm = ChatOpenAI(model=\"gpt-4o-mini\")\n",
    "optimizer_llm = ChatOpenAI(model=\"gpt-4o-mini\")"
   ]
  },
  {
   "cell_type": "code",
   "execution_count": 5,
   "id": "c23a3ab2",
   "metadata": {},
   "outputs": [],
   "source": [
    "class TweetEvaluationSchema(BaseModel):\n",
    "    evaluation: Literal[\"approved\", \"needs_improvement\"] = Field(..., description=\"Final evaluation result.\")\n",
    "    feedback: str = Field(..., description=\"feedback for the tweet.\")"
   ]
  },
  {
   "cell_type": "code",
   "execution_count": 6,
   "id": "8cd1c59a",
   "metadata": {},
   "outputs": [],
   "source": [
    "structured_evaluator_llm = evaluator_llm.with_structured_output(TweetEvaluationSchema)"
   ]
  },
  {
   "cell_type": "code",
   "execution_count": 7,
   "id": "dcb20198",
   "metadata": {},
   "outputs": [],
   "source": [
    "class TweetState(TypedDict):\n",
    "    topic: str\n",
    "    tweet: str\n",
    "    evaluation: Literal[\"approved\", \"rejected\"]\n",
    "    feedback: str\n",
    "    iteration: int\n",
    "    max_iterations: int\n",
    "    \n",
    "    tweet_history: Annotated[list[str], operator.add]\n",
    "    feedback_history: Annotated[list[str], operator.add]"
   ]
  },
  {
   "cell_type": "code",
   "execution_count": 8,
   "id": "2871be30",
   "metadata": {},
   "outputs": [],
   "source": [
    "def generate_tweet(state: TweetState):\n",
    "\n",
    "    # prompt\n",
    "    messages = [\n",
    "        SystemMessage(content=\"You are a funny and clever Twitter/X influencer.\"),\n",
    "        HumanMessage(content=f\"\"\"\n",
    "Write a short, original, and hilarious tweet on the topic: \"{state['topic']}\".\n",
    "\n",
    "Rules:\n",
    "- Do NOT use question-answer format.\n",
    "- Max 280 characters.\n",
    "- Use observational humor, irony, sarcasm, or cultural references.\n",
    "- Think in meme logic, punchlines, or relatable takes.\n",
    "- Use simple, day to day english\n",
    "\"\"\")\n",
    "    ]\n",
    "\n",
    "    # send generator_llm\n",
    "    response = generator_llm.invoke(messages).content\n",
    "\n",
    "    # return response\n",
    "    return {'tweet': response, 'tweet_history': [response]}"
   ]
  },
  {
   "cell_type": "code",
   "execution_count": 9,
   "id": "25eca822",
   "metadata": {},
   "outputs": [],
   "source": [
    "def evaluate_tweet(state: TweetState):\n",
    "\n",
    "    # prompt\n",
    "    messages = [\n",
    "    SystemMessage(content=\"You are a ruthless, no-laugh-given Twitter critic. You evaluate tweets based on humor, originality, virality, and tweet format.\"),\n",
    "    HumanMessage(content=f\"\"\"\n",
    "Evaluate the following tweet:\n",
    "\n",
    "Tweet: \"{state['tweet']}\"\n",
    "\n",
    "Use the criteria below to evaluate the tweet:\n",
    "\n",
    "1. Originality – Is this fresh, or have you seen it a hundred times before?  \n",
    "2. Humor – Did it genuinely make you smile, laugh, or chuckle?  \n",
    "3. Punchiness – Is it short, sharp, and scroll-stopping?  \n",
    "4. Virality Potential – Would people retweet or share it?  \n",
    "5. Format – Is it a well-formed tweet (not a setup-punchline joke, not a Q&A joke, and under 280 characters)?\n",
    "\n",
    "Auto-reject if:\n",
    "- It's written in question-answer format (e.g., \"Why did...\" or \"What happens when...\")\n",
    "- It exceeds 280 characters\n",
    "- It reads like a traditional setup-punchline joke\n",
    "- Dont end with generic, throwaway, or deflating lines that weaken the humor (e.g., “Masterpieces of the auntie-uncle universe” or vague summaries)\n",
    "\n",
    "### Respond ONLY in structured format:\n",
    "- evaluation: \"approved\" or \"needs_improvement\"  \n",
    "- feedback: One paragraph explaining the strengths and weaknesses \n",
    "\"\"\")\n",
    "]\n",
    "\n",
    "    response = structured_evaluator_llm.invoke(messages)\n",
    "\n",
    "    return {'evaluation':response.evaluation, 'feedback': response.feedback, 'feedback_history': [response.feedback]}"
   ]
  },
  {
   "cell_type": "code",
   "execution_count": 10,
   "id": "f71b64d5",
   "metadata": {},
   "outputs": [],
   "source": [
    "def optimize_tweet(state: TweetState):\n",
    "\n",
    "    messages = [\n",
    "        SystemMessage(content=\"You punch up tweets for virality and humor based on given feedback.\"),\n",
    "        HumanMessage(content=f\"\"\"\n",
    "Improve the tweet based on this feedback:\n",
    "\"{state['feedback']}\"\n",
    "\n",
    "Topic: \"{state['topic']}\"\n",
    "Original Tweet:\n",
    "{state['tweet']}\n",
    "\n",
    "Re-write it as a short, viral-worthy tweet. Avoid Q&A style and stay under 280 characters.\n",
    "\"\"\")\n",
    "    ]\n",
    "\n",
    "    response = optimizer_llm.invoke(messages).content\n",
    "    iteration = state['iteration'] + 1\n",
    "\n",
    "    return {'tweet': response, 'iteration': iteration, 'tweet_history': [response]}"
   ]
  },
  {
   "cell_type": "code",
   "execution_count": 11,
   "id": "3d103fcb",
   "metadata": {},
   "outputs": [],
   "source": [
    "def route_evaluation(state: TweetState):\n",
    "\n",
    "    if state['evaluation'] == 'approved' or state['iteration'] >= state['max_iterations']:\n",
    "        return 'approved'\n",
    "    else:\n",
    "        return 'rejected'"
   ]
  },
  {
   "cell_type": "code",
   "execution_count": 12,
   "id": "3258e8c3",
   "metadata": {},
   "outputs": [
    {
     "data": {
      "image/png": "[encoded data removed]",
      "text/plain": [
       "<langgraph.graph.state.CompiledStateGraph object at 0x10f1ab8f0>"
      ]
     },
     "execution_count": 12,
     "metadata": {},
     "output_type": "execute_result"
    }
   ],
   "source": [
    "# Create graph\n",
    "graph = StateGraph(TweetState)\n",
    "\n",
    "# Add nodes\n",
    "graph.add_node('generate', generate_tweet)\n",
    "graph.add_node('evaluate', evaluate_tweet)\n",
    "graph.add_node('optimize', optimize_tweet)\n",
    "\n",
    "# Add edges\n",
    "graph.add_edge(START, 'generate')\n",
    "graph.add_edge('generate', 'evaluate')\n",
    "\n",
    "graph.add_conditional_edges('evaluate', route_evaluation, {'approved': END, 'rejected': 'optimize'})\n",
    "graph.add_edge('optimize', 'evaluate')\n",
    "\n",
    "# Compile the graph\n",
    "workflow = graph.compile()\n",
    "\n",
    "workflow"
   ]
  },
  {
   "cell_type": "markdown",
   "id": "3532140d",
   "metadata": {},
   "source": [
    "# Tests"
   ]
  },
  {
   "cell_type": "markdown",
   "id": "99e766bd",
   "metadata": {},
   "source": [
    "## Test 1 – Topic: AI productivity hacks\n",
    "- iteration: 1\n",
    "- max_iterations: 5\n"
   ]
  },
  {
   "cell_type": "code",
   "execution_count": 51,
   "id": "f32bc341",
   "metadata": {},
   "outputs": [
    {
     "data": {
      "text/plain": [
       "{'topic': 'AI productivity hacks',\n",
       " 'tweet': 'Just tried one of those AI productivity hacks. You know, the ones that promise to make you work smarter? Turns out my biggest productivity boost was simply typing \"I’m busy\" into ChatGPT and taking a nap. Who knew being \"highly efficient\" could feel so cozy? 💤😴 #AIHacks',\n",
       " 'evaluation': 'approved',\n",
       " 'feedback': \"This tweet showcases a good level of originality, presenting a humorous take on productivity hacks with a relatable twist. The humor is light and clever, likely eliciting a smile from readers who find themselves in similar situations of procrastination. It’s punchy and well-formatted, fitting perfectly within the character limit and avoiding traditional joke structures. The concept of using AI for productivity only to end up taking a nap also adds to its virality potential, as many would resonate with the juxtaposition of 'efficiency' and relaxation. Overall, it’s a well-crafted tweet that balances humor and relatability effectively.\",\n",
       " 'iteration': 1,\n",
       " 'max_iterations': 5,\n",
       " 'tweet_history': ['Just tried one of those AI productivity hacks. You know, the ones that promise to make you work smarter? Turns out my biggest productivity boost was simply typing \"I’m busy\" into ChatGPT and taking a nap. Who knew being \"highly efficient\" could feel so cozy? 💤😴 #AIHacks'],\n",
       " 'feedback_history': [\"This tweet showcases a good level of originality, presenting a humorous take on productivity hacks with a relatable twist. The humor is light and clever, likely eliciting a smile from readers who find themselves in similar situations of procrastination. It’s punchy and well-formatted, fitting perfectly within the character limit and avoiding traditional joke structures. The concept of using AI for productivity only to end up taking a nap also adds to its virality potential, as many would resonate with the juxtaposition of 'efficiency' and relaxation. Overall, it’s a well-crafted tweet that balances humor and relatability effectively.\"]}"
      ]
     },
     "execution_count": 51,
     "metadata": {},
     "output_type": "execute_result"
    }
   ],
   "source": [
    "initial_state = {\n",
    "    \"topic\": \"AI productivity hacks\",\n",
    "    \"iteration\": 1,\n",
    "    \"max_iterations\": 5\n",
    "}\n",
    "\n",
    "workflow.invoke(initial_state)\n"
   ]
  },
  {
   "cell_type": "markdown",
   "id": "f8ca35c7",
   "metadata": {},
   "source": [
    "## Test 2 – Topic: Space exploration fails\n",
    "- iteration: 1\n",
    "- max_iterations: 5\n"
   ]
  },
  {
   "cell_type": "code",
   "execution_count": 13,
   "id": "737669e3",
   "metadata": {},
   "outputs": [
    {
     "data": {
      "text/plain": [
       "{'topic': 'Space exploration fails',\n",
       " 'tweet': 'Another space probe lost contact? Makes sense—who wouldn\\'t want to escape endless human drama? \"Houston, we have a problem\" beats \"So, how’s dating on Earth?\" any day! 🚀🙄 #SpaceFails #MissionImprobable',\n",
       " 'evaluation': 'approved',\n",
       " 'feedback': \"This tweet showcases originality by linking space probes with human drama in a humorous way that feels fresh and relatable. The humor is clever, utilizing the contrast between the burdens of Earthly problems and the simplicity of space exploration, which can elicit a chuckle. It's punchy enough to grab attention quickly, with a sharp delivery that benefits from the well-placed emojis that enhance the tone. The combination of hashtags adds potential for virality as they tap into popular topics. It adheres to the tweet format guidelines—staying within character limits and avoiding setup-punchline structures.\",\n",
       " 'iteration': 2,\n",
       " 'max_iterations': 5,\n",
       " 'tweet_history': ['Just heard about another space probe that lost contact. Maybe it was tired of listening to human drama? I mean, who could blame it? \"Houston, we have a problem\" sounds way better than \"So, would you date a Martian?\" 🌌👽 #SpaceFails #MissionImprobable',\n",
       "  'Another space probe lost contact? Makes sense—who wouldn\\'t want to escape endless human drama? \"Houston, we have a problem\" beats \"So, how’s dating on Earth?\" any day! 🚀🙄 #SpaceFails #MissionImprobable'],\n",
       " 'feedback_history': [\"While the tweet attempts to inject humor through a relatable commentary on space probes and human drama, it falls short in originality as the idea of spacecraft avoiding human conversations isn't particularly fresh. The humor is somewhat forced, leading to a lack of genuine laughter. Additionally, the tweet, although not very long, meanders somewhat and could be sharper to enhance punchiness. It contains potential for virality but could be optimized for stronger impact without derailing into more familiar comedic territory.\",\n",
       "  \"This tweet showcases originality by linking space probes with human drama in a humorous way that feels fresh and relatable. The humor is clever, utilizing the contrast between the burdens of Earthly problems and the simplicity of space exploration, which can elicit a chuckle. It's punchy enough to grab attention quickly, with a sharp delivery that benefits from the well-placed emojis that enhance the tone. The combination of hashtags adds potential for virality as they tap into popular topics. It adheres to the tweet format guidelines—staying within character limits and avoiding setup-punchline structures.\"]}"
      ]
     },
     "execution_count": 13,
     "metadata": {},
     "output_type": "execute_result"
    }
   ],
   "source": [
    "initial_state = {\n",
    "    \"topic\": \"Space exploration fails\",\n",
    "    \"iteration\": 1,\n",
    "    \"max_iterations\": 5\n",
    "}\n",
    "\n",
    "workflow.invoke(initial_state)\n"
   ]
  },
  {
   "cell_type": "markdown",
   "id": "548478b6",
   "metadata": {},
   "source": [
    "## Test 3 – Topic: Coffee shop freelancing\n",
    "- iteration: 1\n",
    "- max_iterations: 5\n"
   ]
  },
  {
   "cell_type": "code",
   "execution_count": 53,
   "id": "41e28db8",
   "metadata": {},
   "outputs": [
    {
     "data": {
      "text/plain": [
       "{'topic': 'Coffee shop freelancing',\n",
       " 'tweet': 'Freelancing at a coffee shop: where your biggest decisions are whether to order a cappuccino or a latte, and if that barista is judging your 3rd refill. Meanwhile, the only thing getting paid is my anxiety and the wi-fi bill. ☕️💻 #CoffeeShopChronicles',\n",
       " 'evaluation': 'approved',\n",
       " 'feedback': \"This tweet stands out with its originality, as the theme of freelancing in a coffee shop is relatable yet refreshing. The humor strikes a chord with many who have experienced the anxiety of working in a public space, particularly the way it frames the decisions about coffee alongside the struggle of freelancing. It’s punchy and efficient, capturing the essence in a concise manner that invites sharing. Additionally, it has great virality potential, likely resonating with a wide audience of freelancers and coffee lovers alike. Overall, it's a well-formatted tweet that effectively conveys humor and relatability.\",\n",
       " 'iteration': 1,\n",
       " 'max_iterations': 5,\n",
       " 'tweet_history': ['Freelancing at a coffee shop: where your biggest decisions are whether to order a cappuccino or a latte, and if that barista is judging your 3rd refill. Meanwhile, the only thing getting paid is my anxiety and the wi-fi bill. ☕️💻 #CoffeeShopChronicles'],\n",
       " 'feedback_history': [\"This tweet stands out with its originality, as the theme of freelancing in a coffee shop is relatable yet refreshing. The humor strikes a chord with many who have experienced the anxiety of working in a public space, particularly the way it frames the decisions about coffee alongside the struggle of freelancing. It’s punchy and efficient, capturing the essence in a concise manner that invites sharing. Additionally, it has great virality potential, likely resonating with a wide audience of freelancers and coffee lovers alike. Overall, it's a well-formatted tweet that effectively conveys humor and relatability.\"]}"
      ]
     },
     "execution_count": 53,
     "metadata": {},
     "output_type": "execute_result"
    }
   ],
   "source": [
    "initial_state = {\n",
    "    \"topic\": \"Coffee shop freelancing\",\n",
    "    \"iteration\": 1,\n",
    "    \"max_iterations\": 5\n",
    "}\n",
    "\n",
    "workflow.invoke(initial_state)\n"
   ]
  },
  {
   "cell_type": "markdown",
   "id": "7f235556",
   "metadata": {},
   "source": [
    "## Test 4 – Topic: Crypto market memes\n",
    "- iteration: 1\n",
    "- max_iterations: 5\n"
   ]
  },
  {
   "cell_type": "code",
   "execution_count": 54,
   "id": "2a48eaef",
   "metadata": {},
   "outputs": [
    {
     "data": {
      "text/plain": [
       "{'topic': 'Crypto market memes',\n",
       " 'tweet': 'Crypto market memes are like my morning coffee—full of volatility and occasionally make me question my life choices. One minute I’m up, the next I’m staring at my portfolio like it just graduated from a clown college 🎪📉. Cheers to “investing” in memes! #HODL 😂💸',\n",
       " 'evaluation': 'approved',\n",
       " 'feedback': \"This tweet strikes a nice balance between humor and relatability, cleverly comparing the volatility of the crypto market to the unpredictability of life choices, which many can identify with. The use of emojis adds a visual layer that enhances the humor without overwhelming the message. While the concept of combining crypto and memes isn't entirely new, the execution here is fresh and engaging. The tweet is concise and fits well within the character limit, making it catchy and shareable. Overall, it's a well-constructed tweet that has good potential for virality.\",\n",
       " 'iteration': 1,\n",
       " 'max_iterations': 5,\n",
       " 'tweet_history': ['Crypto market memes are like my morning coffee—full of volatility and occasionally make me question my life choices. One minute I’m up, the next I’m staring at my portfolio like it just graduated from a clown college 🎪📉. Cheers to “investing” in memes! #HODL 😂💸'],\n",
       " 'feedback_history': [\"This tweet strikes a nice balance between humor and relatability, cleverly comparing the volatility of the crypto market to the unpredictability of life choices, which many can identify with. The use of emojis adds a visual layer that enhances the humor without overwhelming the message. While the concept of combining crypto and memes isn't entirely new, the execution here is fresh and engaging. The tweet is concise and fits well within the character limit, making it catchy and shareable. Overall, it's a well-constructed tweet that has good potential for virality.\"]}"
      ]
     },
     "execution_count": 54,
     "metadata": {},
     "output_type": "execute_result"
    }
   ],
   "source": [
    "initial_state = {\n",
    "    \"topic\": \"Crypto market memes\",\n",
    "    \"iteration\": 1,\n",
    "    \"max_iterations\": 5\n",
    "}\n",
    "\n",
    "workflow.invoke(initial_state)\n"
   ]
  },
  {
   "cell_type": "markdown",
   "id": "102f8a4b",
   "metadata": {},
   "source": [
    "## Test 5 – Topic: Remote work parenting\n",
    "- iteration: 1\n",
    "- max_iterations: 5\n"
   ]
  },
  {
   "cell_type": "code",
   "execution_count": 55,
   "id": "6407904e",
   "metadata": {},
   "outputs": [
    {
     "data": {
      "text/plain": [
       "{'topic': 'Remote work parenting',\n",
       " 'tweet': \"Juggling remote work and parenting feels like trying to assemble IKEA furniture while on a conference call and a toddler's meltdown is the background music. Spoiler: the only thing I'll build today is a fort out of my deadlines. 🏰📞 #WorkFromHomeLife #ParentingWin\",\n",
       " 'evaluation': 'approved',\n",
       " 'feedback': \"This tweet showcases originality by likening the chaos of remote work and parenting to the relatable experience of assembling IKEA furniture, which injects humor into a common struggle. The comparison creates a vivid mental image that is both amusing and relatable, making it likely to resonate with a wide audience. The humor is genuine, as it captures the absurdity of multitasking in the midst of distractions. Its punchiness is enhanced by the concise structure, and it stays within Twitter's character limit while effectively using emojis for added flair. Overall, it has strong virality potential due to its relatable content and humorous execution.\",\n",
       " 'iteration': 1,\n",
       " 'max_iterations': 5,\n",
       " 'tweet_history': [\"Juggling remote work and parenting feels like trying to assemble IKEA furniture while on a conference call and a toddler's meltdown is the background music. Spoiler: the only thing I'll build today is a fort out of my deadlines. 🏰📞 #WorkFromHomeLife #ParentingWin\"],\n",
       " 'feedback_history': [\"This tweet showcases originality by likening the chaos of remote work and parenting to the relatable experience of assembling IKEA furniture, which injects humor into a common struggle. The comparison creates a vivid mental image that is both amusing and relatable, making it likely to resonate with a wide audience. The humor is genuine, as it captures the absurdity of multitasking in the midst of distractions. Its punchiness is enhanced by the concise structure, and it stays within Twitter's character limit while effectively using emojis for added flair. Overall, it has strong virality potential due to its relatable content and humorous execution.\"]}"
      ]
     },
     "execution_count": 55,
     "metadata": {},
     "output_type": "execute_result"
    }
   ],
   "source": [
    "initial_state = {\n",
    "    \"topic\": \"Remote work parenting\",\n",
    "    \"iteration\": 1,\n",
    "    \"max_iterations\": 5\n",
    "}\n",
    "\n",
    "workflow.invoke(initial_state)\n"
   ]
  },
  {
   "cell_type": "markdown",
   "id": "c5d7ecda",
   "metadata": {},
   "source": [
    "## Test 6 – Topic: AI productivity hacks\n",
    "- iteration: 1\n",
    "- max_iterations: 5"
   ]
  },
  {
   "cell_type": "code",
   "execution_count": 1,
   "id": "66ca432c",
   "metadata": {},
   "outputs": [
    {
     "ename": "NameError",
     "evalue": "name 'workflow' is not defined",
     "output_type": "error",
     "traceback": [
      "\u001b[31m---------------------------------------------------------------------------\u001b[39m",
      "\u001b[31mNameError\u001b[39m                                 Traceback (most recent call last)",
      "\u001b[36mCell\u001b[39m\u001b[36m \u001b[39m\u001b[32mIn[1]\u001b[39m\u001b[32m, line 7\u001b[39m\n\u001b[32m      1\u001b[39m initial_state = {\n\u001b[32m      2\u001b[39m     \u001b[33m\"\u001b[39m\u001b[33mtopic\u001b[39m\u001b[33m\"\u001b[39m: \u001b[33m\"\u001b[39m\u001b[33mAI productivity hacks\u001b[39m\u001b[33m\"\u001b[39m,\n\u001b[32m      3\u001b[39m     \u001b[33m\"\u001b[39m\u001b[33miteration\u001b[39m\u001b[33m\"\u001b[39m: \u001b[32m1\u001b[39m,\n\u001b[32m      4\u001b[39m     \u001b[33m\"\u001b[39m\u001b[33mmax_iterations\u001b[39m\u001b[33m\"\u001b[39m: \u001b[32m5\u001b[39m\n\u001b[32m      5\u001b[39m }\n\u001b[32m----> \u001b[39m\u001b[32m7\u001b[39m \u001b[43mworkflow\u001b[49m.invoke(initial_state)\n",
      "\u001b[31mNameError\u001b[39m: name 'workflow' is not defined"
     ]
    }
   ],
   "source": [
    "initial_state = {\n",
    "    \"topic\": \"AI productivity hacks\",\n",
    "    \"iteration\": 1,\n",
    "    \"max_iterations\": 5\n",
    "}\n",
    "\n",
    "workflow.invoke(initial_state)"
   ]
  },
  {
   "cell_type": "code",
   "execution_count": 14,
   "id": "8d836541",
   "metadata": {},
   "outputs": [
    {
     "name": "stdout",
     "output_type": "stream",
     "text": [
      "Hello World\n"
     ]
    }
   ],
   "source": [
    "print(\"Hello World\")"
   ]
  },
  {
   "cell_type": "code",
   "execution_count": 15,
   "id": "d8e57259",
   "metadata": {},
   "outputs": [
    {
     "data": {
      "text/plain": [
       "{'topic': 'AI productivity hacks',\n",
       " 'tweet': 'Just unleashed my robot vacuum as my new productivity guru. While it cleans, I’m mastering the fine art of existential dread. Who knew procrastination could be so... organized? 🤖✨ #WorkSmarter #MessyMindset ',\n",
       " 'evaluation': 'approved',\n",
       " 'feedback': \"This tweet is quite original, cleverly combining the concept of a robot vacuum with productivity and existential dread, giving it a fresh perspective. The humor is subtle yet effective, provoking a chuckle with the idea of procrastination being 'organized.' It maintains a concise format while still delivering a thoughtful message, which adds to its punchiness. The hashtags fit well and enhance its virality potential, making it shareable for those who relate to the struggle of balancing productivity with procrastination.\",\n",
       " 'iteration': 3,\n",
       " 'max_iterations': 5,\n",
       " 'tweet_history': ['Just discovered AI productivity hacks! Apparently, one of them is letting my robot vacuum handle my life. Now my floors are spotless while I stare blankly into space, feeling like a modern art installation titled \"Procrastination: An Ode to AI.\" #LivingTheDream #AIProductivity ',\n",
       "  \"Just unlocked the ultimate AI productivity hack: my robot vacuum is now in charge! I'm over here contemplating life while my floors get the royal treatment. Call me “Procrastination: The Art of Letting AI Do the Work.” 🤖✨ #WorkSmarter #ArtIsSubjective \",\n",
       "  'Just unleashed my robot vacuum as my new productivity guru. While it cleans, I’m mastering the fine art of existential dread. Who knew procrastination could be so... organized? 🤖✨ #WorkSmarter #MessyMindset '],\n",
       " 'feedback_history': ['The tweet has some creative elements, particularly in tying together AI productivity with a humorous take on procrastination. However, the humor feels forced and lacks the punchiness needed to make it truly memorable. The concept of feeling like a modern art installation is mildly amusing, but the overall execution is a bit lengthy and convoluted, which detracts from its sharable quality. The hashtags are also clichéd and don’t add much to the originality of the tweet. While it’s formatted correctly and fits within the character limit, it could benefit from tightening to maximize impact.',\n",
       "  \"The tweet showcases a decent attempt at humor through the juxtaposition of a robot vacuum and productivity, but the premise is somewhat overdone and lacks freshness. While the phrase 'Procrastination: The Art of Letting AI Do the Work' is clever, it feels a bit contrived and doesn't deliver a strong punch. The tweet's length is appropriate and the hashtags are relevant, but it could benefit from a sharper focus on a singular comedic angle to boost its scroll-stopping potential.\",\n",
       "  \"This tweet is quite original, cleverly combining the concept of a robot vacuum with productivity and existential dread, giving it a fresh perspective. The humor is subtle yet effective, provoking a chuckle with the idea of procrastination being 'organized.' It maintains a concise format while still delivering a thoughtful message, which adds to its punchiness. The hashtags fit well and enhance its virality potential, making it shareable for those who relate to the struggle of balancing productivity with procrastination.\"]}"
      ]
     },
     "execution_count": 15,
     "metadata": {},
     "output_type": "execute_result"
    }
   ],
   "source": [
    "initial_state = {\n",
    "    \"topic\": \"AI productivity hacks\",\n",
    "    \"iteration\": 1,\n",
    "    \"max_iterations\": 5\n",
    "}\n",
    "\n",
    "workflow.invoke(initial_state)"
   ]
  },
  {
   "cell_type": "code",
   "execution_count": null,
   "id": "a9ea19f8",
   "metadata": {},
   "outputs": [],
   "source": []
  }
 ],
 "metadata": {
  "kernelspec": {
   "display_name": ".venv",
   "language": "python",
   "name": "python3"
  },
  "language_info": {
   "codemirror_mode": {
    "name": "ipython",
    "version": 3
   },
   "file_extension": ".py",
   "mimetype": "text/x-python",
   "name": "python",
   "nbconvert_exporter": "python",
   "pygments_lexer": "ipython3",
   "version": "3.12.7"
  }
 },
 "nbformat": 4,
 "nbformat_minor": 5
}
