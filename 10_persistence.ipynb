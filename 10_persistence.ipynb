{
 "cells": [
  {
   "cell_type": "code",
   "execution_count": 1,
   "id": "cc88f010",
   "metadata": {},
   "outputs": [],
   "source": [
    "from langgraph.graph import StateGraph, START, END\n",
    "from typing import TypedDict\n",
    "from langchain_openai import ChatOpenAI\n",
    "from dotenv import load_dotenv\n",
    "from langgraph.checkpoint.memory import InMemorySaver"
   ]
  },
  {
   "cell_type": "code",
   "execution_count": 2,
   "id": "195e8a3d",
   "metadata": {},
   "outputs": [
    {
     "data": {
      "text/plain": [
       "True"
      ]
     },
     "execution_count": 2,
     "metadata": {},
     "output_type": "execute_result"
    }
   ],
   "source": [
    "load_dotenv()"
   ]
  },
  {
   "cell_type": "code",
   "execution_count": 3,
   "id": "3c0495a5",
   "metadata": {},
   "outputs": [],
   "source": [
    "llm = ChatOpenAI()"
   ]
  },
  {
   "cell_type": "code",
   "execution_count": 4,
   "id": "57c12b28",
   "metadata": {},
   "outputs": [],
   "source": [
    "class JokeState(TypedDict):\n",
    "    topic: str\n",
    "    joke: str\n",
    "    explanation: str"
   ]
  },
  {
   "cell_type": "code",
   "execution_count": 5,
   "id": "0abf7dcb",
   "metadata": {},
   "outputs": [],
   "source": [
    "def generate_joke(state: JokeState):\n",
    "    prompt = f\"Generate a joke on the topic {state['topic']}\"\n",
    "    response = llm.invoke(prompt).content\n",
    "    \n",
    "    return {'joke': response}"
   ]
  },
  {
   "cell_type": "code",
   "execution_count": 6,
   "id": "484de735",
   "metadata": {},
   "outputs": [],
   "source": [
    "def generate_explanation(state: JokeState):\n",
    "    prompt = f\"Generate an explanation for this joke: {state['joke']}\"\n",
    "    response = llm.invoke(prompt).content\n",
    "    \n",
    "    return {'explanation': response}"
   ]
  },
  {
   "cell_type": "code",
   "execution_count": 10,
   "id": "bdbe1c48",
   "metadata": {},
   "outputs": [],
   "source": [
    "# Create a Graph\n",
    "graph = StateGraph(JokeState)\n",
    "\n",
    "# Add Nodes\n",
    "graph.add_node(\"generate_joke\", generate_joke)\n",
    "graph.add_node(\"generate_explanation\", generate_explanation)\n",
    "\n",
    "# Create Edges\n",
    "graph.add_edge(START, \"generate_joke\")\n",
    "graph.add_edge(\"generate_joke\", \"generate_explanation\")\n",
    "graph.add_edge(\"generate_explanation\", END)\n",
    "\n",
    "# Create In-memory Checkpointer\n",
    "checkpointer = InMemorySaver()\n",
    "\n",
    "# Compile the Graph\n",
    "workflow = graph.compile(checkpointer=checkpointer)"
   ]
  },
  {
   "cell_type": "code",
   "execution_count": 12,
   "id": "8c42fa24",
   "metadata": {},
   "outputs": [
    {
     "data": {
      "text/plain": [
       "{'topic': 'Coffee mug',\n",
       " 'joke': 'Why did the coffee mug go to the therapist? Because it was feeling a little tea-rse.',\n",
       " 'explanation': 'This joke plays on the pun between the words \"tea-rse\" and \"teased\". The coffee mug went to the therapist because it was feeling a little \"tea-rse,\" meaning it was feeling teased or irritated. The joke creates humor by anthropomorphizing the coffee mug and giving it feelings and emotions like a person would have.'}"
      ]
     },
     "execution_count": 12,
     "metadata": {},
     "output_type": "execute_result"
    }
   ],
   "source": [
    "config1 = {\"configurable\": {'thread_id': '1'}}\n",
    "\n",
    "initial_state = {\n",
    "    \"topic\": \"Coffee mug\"\n",
    "}\n",
    "\n",
    "workflow.invoke(initial_state, config=config1)"
   ]
  },
  {
   "cell_type": "code",
   "execution_count": 13,
   "id": "b54d78e0",
   "metadata": {},
   "outputs": [
    {
     "data": {
      "text/plain": [
       "StateSnapshot(values={'topic': 'Coffee mug', 'joke': 'Why did the coffee mug go to the therapist? Because it was feeling a little tea-rse.', 'explanation': 'This joke plays on the pun between the words \"tea-rse\" and \"teased\". The coffee mug went to the therapist because it was feeling a little \"tea-rse,\" meaning it was feeling teased or irritated. The joke creates humor by anthropomorphizing the coffee mug and giving it feelings and emotions like a person would have.'}, next=(), config={'configurable': {'thread_id': '1', 'checkpoint_ns': '', 'checkpoint_id': '1f099fb5-d45a-60bc-8002-b604ecd51a78'}}, metadata={'source': 'loop', 'step': 2, 'parents': {}}, created_at='2025-09-25T10:35:32.917045+00:00', parent_config={'configurable': {'thread_id': '1', 'checkpoint_ns': '', 'checkpoint_id': '1f099fb5-c9c3-6194-8001-fd87e353c69b'}}, tasks=(), interrupts=())"
      ]
     },
     "execution_count": 13,
     "metadata": {},
     "output_type": "execute_result"
    }
   ],
   "source": [
    "workflow.get_state(config1)"
   ]
  },
  {
   "cell_type": "code",
   "execution_count": 14,
   "id": "a3072f21",
   "metadata": {},
   "outputs": [
    {
     "data": {
      "text/plain": [
       "[StateSnapshot(values={'topic': 'Coffee mug', 'joke': 'Why did the coffee mug go to the therapist? Because it was feeling a little tea-rse.', 'explanation': 'This joke plays on the pun between the words \"tea-rse\" and \"teased\". The coffee mug went to the therapist because it was feeling a little \"tea-rse,\" meaning it was feeling teased or irritated. The joke creates humor by anthropomorphizing the coffee mug and giving it feelings and emotions like a person would have.'}, next=(), config={'configurable': {'thread_id': '1', 'checkpoint_ns': '', 'checkpoint_id': '1f099fb5-d45a-60bc-8002-b604ecd51a78'}}, metadata={'source': 'loop', 'step': 2, 'parents': {}}, created_at='2025-09-25T10:35:32.917045+00:00', parent_config={'configurable': {'thread_id': '1', 'checkpoint_ns': '', 'checkpoint_id': '1f099fb5-c9c3-6194-8001-fd87e353c69b'}}, tasks=(), interrupts=()),\n",
       " StateSnapshot(values={'topic': 'Coffee mug', 'joke': 'Why did the coffee mug go to the therapist? Because it was feeling a little tea-rse.'}, next=('generate_explanation',), config={'configurable': {'thread_id': '1', 'checkpoint_ns': '', 'checkpoint_id': '1f099fb5-c9c3-6194-8001-fd87e353c69b'}}, metadata={'source': 'loop', 'step': 1, 'parents': {}}, created_at='2025-09-25T10:35:31.806651+00:00', parent_config={'configurable': {'thread_id': '1', 'checkpoint_ns': '', 'checkpoint_id': '1f099fb5-b1c7-61e4-8000-a0fbbefff41f'}}, tasks=(PregelTask(id='004328ae-17b5-d550-f6b7-2a06d09ec5e7', name='generate_explanation', path=('__pregel_pull', 'generate_explanation'), error=None, interrupts=(), state=None, result={'explanation': 'This joke plays on the pun between the words \"tea-rse\" and \"teased\". The coffee mug went to the therapist because it was feeling a little \"tea-rse,\" meaning it was feeling teased or irritated. The joke creates humor by anthropomorphizing the coffee mug and giving it feelings and emotions like a person would have.'}),), interrupts=()),\n",
       " StateSnapshot(values={'topic': 'Coffee mug'}, next=('generate_joke',), config={'configurable': {'thread_id': '1', 'checkpoint_ns': '', 'checkpoint_id': '1f099fb5-b1c7-61e4-8000-a0fbbefff41f'}}, metadata={'source': 'loop', 'step': 0, 'parents': {}}, created_at='2025-09-25T10:35:29.291660+00:00', parent_config={'configurable': {'thread_id': '1', 'checkpoint_ns': '', 'checkpoint_id': '1f099fb5-b1bb-69c0-bfff-55b525e5aa19'}}, tasks=(PregelTask(id='35f8e4f1-d692-c467-7809-c7facdcd2b66', name='generate_joke', path=('__pregel_pull', 'generate_joke'), error=None, interrupts=(), state=None, result={'joke': 'Why did the coffee mug go to the therapist? Because it was feeling a little tea-rse.'}),), interrupts=()),\n",
       " StateSnapshot(values={}, next=('__start__',), config={'configurable': {'thread_id': '1', 'checkpoint_ns': '', 'checkpoint_id': '1f099fb5-b1bb-69c0-bfff-55b525e5aa19'}}, metadata={'source': 'input', 'step': -1, 'parents': {}}, created_at='2025-09-25T10:35:29.286989+00:00', parent_config=None, tasks=(PregelTask(id='5a009c22-2031-497c-81ee-1d8f0d7fd6e0', name='__start__', path=('__pregel_pull', '__start__'), error=None, interrupts=(), state=None, result={'topic': 'Coffee mug'}),), interrupts=())]"
      ]
     },
     "execution_count": 14,
     "metadata": {},
     "output_type": "execute_result"
    }
   ],
   "source": [
    "list(workflow.get_state_history(config1))"
   ]
  },
  {
   "cell_type": "code",
   "execution_count": 16,
   "id": "9ad17f4e",
   "metadata": {},
   "outputs": [
    {
     "data": {
      "text/plain": [
       "{'topic': 'Flying Cars',\n",
       " 'joke': \"Why did the flying car break up with the airplane? \\nBecause it couldn't handle the heights of the relationship!\",\n",
       " 'explanation': 'This joke plays on the idea that the flying car and the airplane were in a romantic relationship. The punchline reveals that the flying car broke up with the airplane because it couldn\\'t handle the \"heights\" of the relationship, both figuratively referring to the emotional intensity and challenges of the relationship and literally referring to the fact that airplanes fly at high altitudes. It\\'s a light-hearted way to play on words and create a humorous scenario.'}"
      ]
     },
     "execution_count": 16,
     "metadata": {},
     "output_type": "execute_result"
    }
   ],
   "source": [
    "workflow.invoke({'topic':'Flying Cars'}, config=config1)"
   ]
  },
  {
   "cell_type": "code",
   "execution_count": 17,
   "id": "25d06bc6",
   "metadata": {},
   "outputs": [
    {
     "data": {
      "text/plain": [
       "StateSnapshot(values={'topic': 'Flying Cars', 'joke': \"Why did the flying car break up with the airplane? \\nBecause it couldn't handle the heights of the relationship!\", 'explanation': 'This joke plays on the idea that the flying car and the airplane were in a romantic relationship. The punchline reveals that the flying car broke up with the airplane because it couldn\\'t handle the \"heights\" of the relationship, both figuratively referring to the emotional intensity and challenges of the relationship and literally referring to the fact that airplanes fly at high altitudes. It\\'s a light-hearted way to play on words and create a humorous scenario.'}, next=(), config={'configurable': {'thread_id': '1', 'checkpoint_ns': '', 'checkpoint_id': '1f099fb9-5d54-67ac-8006-d93377d07385'}}, metadata={'source': 'loop', 'step': 6, 'parents': {}}, created_at='2025-09-25T10:37:07.810895+00:00', parent_config={'configurable': {'thread_id': '1', 'checkpoint_ns': '', 'checkpoint_id': '1f099fb9-50fe-6b2e-8005-d999dce77691'}}, tasks=(), interrupts=())"
      ]
     },
     "execution_count": 17,
     "metadata": {},
     "output_type": "execute_result"
    }
   ],
   "source": [
    "workflow.get_state(config1)"
   ]
  },
  {
   "cell_type": "code",
   "execution_count": 18,
   "id": "35c158f6",
   "metadata": {},
   "outputs": [
    {
     "data": {
      "text/plain": [
       "[StateSnapshot(values={'topic': 'Flying Cars', 'joke': \"Why did the flying car break up with the airplane? \\nBecause it couldn't handle the heights of the relationship!\", 'explanation': 'This joke plays on the idea that the flying car and the airplane were in a romantic relationship. The punchline reveals that the flying car broke up with the airplane because it couldn\\'t handle the \"heights\" of the relationship, both figuratively referring to the emotional intensity and challenges of the relationship and literally referring to the fact that airplanes fly at high altitudes. It\\'s a light-hearted way to play on words and create a humorous scenario.'}, next=(), config={'configurable': {'thread_id': '1', 'checkpoint_ns': '', 'checkpoint_id': '1f099fb9-5d54-67ac-8006-d93377d07385'}}, metadata={'source': 'loop', 'step': 6, 'parents': {}}, created_at='2025-09-25T10:37:07.810895+00:00', parent_config={'configurable': {'thread_id': '1', 'checkpoint_ns': '', 'checkpoint_id': '1f099fb9-50fe-6b2e-8005-d999dce77691'}}, tasks=(), interrupts=()),\n",
       " StateSnapshot(values={'topic': 'Flying Cars', 'joke': \"Why did the flying car break up with the airplane? \\nBecause it couldn't handle the heights of the relationship!\", 'explanation': 'This joke plays on the pun between the words \"tea-rse\" and \"teased\". The coffee mug went to the therapist because it was feeling a little \"tea-rse,\" meaning it was feeling teased or irritated. The joke creates humor by anthropomorphizing the coffee mug and giving it feelings and emotions like a person would have.'}, next=('generate_explanation',), config={'configurable': {'thread_id': '1', 'checkpoint_ns': '', 'checkpoint_id': '1f099fb9-50fe-6b2e-8005-d999dce77691'}}, metadata={'source': 'loop', 'step': 5, 'parents': {}}, created_at='2025-09-25T10:37:06.517474+00:00', parent_config={'configurable': {'thread_id': '1', 'checkpoint_ns': '', 'checkpoint_id': '1f099fb9-4473-6f08-8004-8e9c8fe8ee8f'}}, tasks=(PregelTask(id='a2d2aad6-20af-b50e-0979-0b380027e9a8', name='generate_explanation', path=('__pregel_pull', 'generate_explanation'), error=None, interrupts=(), state=None, result={'explanation': 'This joke plays on the idea that the flying car and the airplane were in a romantic relationship. The punchline reveals that the flying car broke up with the airplane because it couldn\\'t handle the \"heights\" of the relationship, both figuratively referring to the emotional intensity and challenges of the relationship and literally referring to the fact that airplanes fly at high altitudes. It\\'s a light-hearted way to play on words and create a humorous scenario.'}),), interrupts=()),\n",
       " StateSnapshot(values={'topic': 'Flying Cars', 'joke': 'Why did the coffee mug go to the therapist? Because it was feeling a little tea-rse.', 'explanation': 'This joke plays on the pun between the words \"tea-rse\" and \"teased\". The coffee mug went to the therapist because it was feeling a little \"tea-rse,\" meaning it was feeling teased or irritated. The joke creates humor by anthropomorphizing the coffee mug and giving it feelings and emotions like a person would have.'}, next=('generate_joke',), config={'configurable': {'thread_id': '1', 'checkpoint_ns': '', 'checkpoint_id': '1f099fb9-4473-6f08-8004-8e9c8fe8ee8f'}}, metadata={'source': 'loop', 'step': 4, 'parents': {}}, created_at='2025-09-25T10:37:05.202336+00:00', parent_config={'configurable': {'thread_id': '1', 'checkpoint_ns': '', 'checkpoint_id': '1f099fb9-446f-611a-8003-f6068d8fbfe9'}}, tasks=(PregelTask(id='33c5f2bb-e747-39d1-1885-27cf0246c682', name='generate_joke', path=('__pregel_pull', 'generate_joke'), error=None, interrupts=(), state=None, result={'joke': \"Why did the flying car break up with the airplane? \\nBecause it couldn't handle the heights of the relationship!\"}),), interrupts=()),\n",
       " StateSnapshot(values={'topic': 'Coffee mug', 'joke': 'Why did the coffee mug go to the therapist? Because it was feeling a little tea-rse.', 'explanation': 'This joke plays on the pun between the words \"tea-rse\" and \"teased\". The coffee mug went to the therapist because it was feeling a little \"tea-rse,\" meaning it was feeling teased or irritated. The joke creates humor by anthropomorphizing the coffee mug and giving it feelings and emotions like a person would have.'}, next=('__start__',), config={'configurable': {'thread_id': '1', 'checkpoint_ns': '', 'checkpoint_id': '1f099fb9-446f-611a-8003-f6068d8fbfe9'}}, metadata={'source': 'input', 'step': 3, 'parents': {}}, created_at='2025-09-25T10:37:05.200326+00:00', parent_config={'configurable': {'thread_id': '1', 'checkpoint_ns': '', 'checkpoint_id': '1f099fb5-d45a-60bc-8002-b604ecd51a78'}}, tasks=(PregelTask(id='d98b8161-01eb-238c-c22e-4c7a6906ca6d', name='__start__', path=('__pregel_pull', '__start__'), error=None, interrupts=(), state=None, result={'topic': 'Flying Cars'}),), interrupts=()),\n",
       " StateSnapshot(values={'topic': 'Coffee mug', 'joke': 'Why did the coffee mug go to the therapist? Because it was feeling a little tea-rse.', 'explanation': 'This joke plays on the pun between the words \"tea-rse\" and \"teased\". The coffee mug went to the therapist because it was feeling a little \"tea-rse,\" meaning it was feeling teased or irritated. The joke creates humor by anthropomorphizing the coffee mug and giving it feelings and emotions like a person would have.'}, next=(), config={'configurable': {'thread_id': '1', 'checkpoint_ns': '', 'checkpoint_id': '1f099fb5-d45a-60bc-8002-b604ecd51a78'}}, metadata={'source': 'loop', 'step': 2, 'parents': {}}, created_at='2025-09-25T10:35:32.917045+00:00', parent_config={'configurable': {'thread_id': '1', 'checkpoint_ns': '', 'checkpoint_id': '1f099fb5-c9c3-6194-8001-fd87e353c69b'}}, tasks=(), interrupts=()),\n",
       " StateSnapshot(values={'topic': 'Coffee mug', 'joke': 'Why did the coffee mug go to the therapist? Because it was feeling a little tea-rse.'}, next=('generate_explanation',), config={'configurable': {'thread_id': '1', 'checkpoint_ns': '', 'checkpoint_id': '1f099fb5-c9c3-6194-8001-fd87e353c69b'}}, metadata={'source': 'loop', 'step': 1, 'parents': {}}, created_at='2025-09-25T10:35:31.806651+00:00', parent_config={'configurable': {'thread_id': '1', 'checkpoint_ns': '', 'checkpoint_id': '1f099fb5-b1c7-61e4-8000-a0fbbefff41f'}}, tasks=(PregelTask(id='004328ae-17b5-d550-f6b7-2a06d09ec5e7', name='generate_explanation', path=('__pregel_pull', 'generate_explanation'), error=None, interrupts=(), state=None, result={'explanation': 'This joke plays on the pun between the words \"tea-rse\" and \"teased\". The coffee mug went to the therapist because it was feeling a little \"tea-rse,\" meaning it was feeling teased or irritated. The joke creates humor by anthropomorphizing the coffee mug and giving it feelings and emotions like a person would have.'}),), interrupts=()),\n",
       " StateSnapshot(values={'topic': 'Coffee mug'}, next=('generate_joke',), config={'configurable': {'thread_id': '1', 'checkpoint_ns': '', 'checkpoint_id': '1f099fb5-b1c7-61e4-8000-a0fbbefff41f'}}, metadata={'source': 'loop', 'step': 0, 'parents': {}}, created_at='2025-09-25T10:35:29.291660+00:00', parent_config={'configurable': {'thread_id': '1', 'checkpoint_ns': '', 'checkpoint_id': '1f099fb5-b1bb-69c0-bfff-55b525e5aa19'}}, tasks=(PregelTask(id='35f8e4f1-d692-c467-7809-c7facdcd2b66', name='generate_joke', path=('__pregel_pull', 'generate_joke'), error=None, interrupts=(), state=None, result={'joke': 'Why did the coffee mug go to the therapist? Because it was feeling a little tea-rse.'}),), interrupts=()),\n",
       " StateSnapshot(values={}, next=('__start__',), config={'configurable': {'thread_id': '1', 'checkpoint_ns': '', 'checkpoint_id': '1f099fb5-b1bb-69c0-bfff-55b525e5aa19'}}, metadata={'source': 'input', 'step': -1, 'parents': {}}, created_at='2025-09-25T10:35:29.286989+00:00', parent_config=None, tasks=(PregelTask(id='5a009c22-2031-497c-81ee-1d8f0d7fd6e0', name='__start__', path=('__pregel_pull', '__start__'), error=None, interrupts=(), state=None, result={'topic': 'Coffee mug'}),), interrupts=())]"
      ]
     },
     "execution_count": 18,
     "metadata": {},
     "output_type": "execute_result"
    }
   ],
   "source": [
    "list(workflow.get_state_history(config1))"
   ]
  },
  {
   "cell_type": "code",
   "execution_count": null,
   "id": "20030db9",
   "metadata": {},
   "outputs": [],
   "source": []
  }
 ],
 "metadata": {
  "kernelspec": {
   "display_name": "langgraph-campusx",
   "language": "python",
   "name": "python3"
  },
  "language_info": {
   "codemirror_mode": {
    "name": "ipython",
    "version": 3
   },
   "file_extension": ".py",
   "mimetype": "text/x-python",
   "name": "python",
   "nbconvert_exporter": "python",
   "pygments_lexer": "ipython3",
   "version": "3.12.7"
  }
 },
 "nbformat": 4,
 "nbformat_minor": 5
}
