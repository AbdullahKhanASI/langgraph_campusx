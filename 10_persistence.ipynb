{
 "cells": [
  {
   "cell_type": "code",
   "execution_count": 1,
   "id": "cc88f010",
   "metadata": {},
   "outputs": [],
   "source": [
    "from langgraph.graph import StateGraph, START, END\n",
    "from typing import TypedDict\n",
    "from langchain_openai import ChatOpenAI\n",
    "from dotenv import load_dotenv\n",
    "from langgraph.checkpoint.memory import InMemorySaver"
   ]
  },
  {
   "cell_type": "code",
   "execution_count": 2,
   "id": "195e8a3d",
   "metadata": {},
   "outputs": [
    {
     "data": {
      "text/plain": [
       "True"
      ]
     },
     "execution_count": 2,
     "metadata": {},
     "output_type": "execute_result"
    }
   ],
   "source": [
    "load_dotenv()"
   ]
  },
  {
   "cell_type": "code",
   "execution_count": 3,
   "id": "3c0495a5",
   "metadata": {},
   "outputs": [],
   "source": [
    "llm = ChatOpenAI()"
   ]
  },
  {
   "cell_type": "code",
   "execution_count": 4,
   "id": "57c12b28",
   "metadata": {},
   "outputs": [],
   "source": [
    "class JokeState(TypedDict):\n",
    "    topic: str\n",
    "    joke: str\n",
    "    explanation: str"
   ]
  },
  {
   "cell_type": "code",
   "execution_count": 5,
   "id": "0abf7dcb",
   "metadata": {},
   "outputs": [],
   "source": [
    "def generate_joke(state: JokeState):\n",
    "    prompt = f\"Generate a joke on the topic {state['topic']}\"\n",
    "    response = llm.invoke(prompt).content\n",
    "    \n",
    "    return {'joke': response}"
   ]
  },
  {
   "cell_type": "code",
   "execution_count": 6,
   "id": "484de735",
   "metadata": {},
   "outputs": [],
   "source": [
    "def generate_explanation(state: JokeState):\n",
    "    prompt = f\"Generate an explanation for this joke: {state['joke']}\"\n",
    "    response = llm.invoke(prompt).content\n",
    "    \n",
    "    return {'explanation': response}"
   ]
  },
  {
   "cell_type": "code",
   "execution_count": 7,
   "id": "bdbe1c48",
   "metadata": {},
   "outputs": [],
   "source": [
    "# Create a Graph\n",
    "graph = StateGraph(JokeState)\n",
    "\n",
    "# Add Nodes\n",
    "graph.add_node(\"generate_joke\", generate_joke)\n",
    "graph.add_node(\"generate_explanation\", generate_explanation)\n",
    "\n",
    "# Create Edges\n",
    "graph.add_edge(START, \"generate_joke\")\n",
    "graph.add_edge(\"generate_joke\", \"generate_explanation\")\n",
    "graph.add_edge(\"generate_explanation\", END)\n",
    "\n",
    "# Create In-memory Checkpointer\n",
    "checkpointer = InMemorySaver()\n",
    "\n",
    "# Compile the Graph\n",
    "workflow = graph.compile(checkpointer=checkpointer)"
   ]
  },
  {
   "cell_type": "code",
   "execution_count": 8,
   "id": "8c42fa24",
   "metadata": {},
   "outputs": [
    {
     "data": {
      "text/plain": [
       "{'topic': 'Coffee mug',\n",
       " 'joke': 'Why did the coffee mug file a police report? Because it was mugged!',\n",
       " 'explanation': 'This joke is a play on words. In this case, \"mugged\" is a term that means to be robbed or attacked. So, the coffee mug in the joke filed a police report because it was physically attacked, or \"mugged.\" It adds humor by using the word \"mug\" in a literal sense to create a silly and unexpected punchline.'}"
      ]
     },
     "execution_count": 8,
     "metadata": {},
     "output_type": "execute_result"
    }
   ],
   "source": [
    "config1 = {\"configurable\": {'thread_id': '1'}}\n",
    "\n",
    "initial_state = {\n",
    "    \"topic\": \"Coffee mug\"\n",
    "}\n",
    "\n",
    "workflow.invoke(initial_state, config=config1)"
   ]
  },
  {
   "cell_type": "code",
   "execution_count": 9,
   "id": "b54d78e0",
   "metadata": {},
   "outputs": [
    {
     "data": {
      "text/plain": [
       "StateSnapshot(values={'topic': 'Coffee mug', 'joke': 'Why did the coffee mug file a police report? Because it was mugged!', 'explanation': 'This joke is a play on words. In this case, \"mugged\" is a term that means to be robbed or attacked. So, the coffee mug in the joke filed a police report because it was physically attacked, or \"mugged.\" It adds humor by using the word \"mug\" in a literal sense to create a silly and unexpected punchline.'}, next=(), config={'configurable': {'thread_id': '1', 'checkpoint_ns': '', 'checkpoint_id': '1f099ff4-7d7f-6762-8002-1d15018b3cf5'}}, metadata={'source': 'loop', 'step': 2, 'parents': {}}, created_at='2025-09-25T11:03:34.953138+00:00', parent_config={'configurable': {'thread_id': '1', 'checkpoint_ns': '', 'checkpoint_id': '1f099ff4-6cc2-619a-8001-7ad1ba9d2fa4'}}, tasks=(), interrupts=())"
      ]
     },
     "execution_count": 9,
     "metadata": {},
     "output_type": "execute_result"
    }
   ],
   "source": [
    "workflow.get_state(config1)"
   ]
  },
  {
   "cell_type": "code",
   "execution_count": 10,
   "id": "a3072f21",
   "metadata": {},
   "outputs": [
    {
     "data": {
      "text/plain": [
       "[StateSnapshot(values={'topic': 'Coffee mug', 'joke': 'Why did the coffee mug file a police report? Because it was mugged!', 'explanation': 'This joke is a play on words. In this case, \"mugged\" is a term that means to be robbed or attacked. So, the coffee mug in the joke filed a police report because it was physically attacked, or \"mugged.\" It adds humor by using the word \"mug\" in a literal sense to create a silly and unexpected punchline.'}, next=(), config={'configurable': {'thread_id': '1', 'checkpoint_ns': '', 'checkpoint_id': '1f099ff4-7d7f-6762-8002-1d15018b3cf5'}}, metadata={'source': 'loop', 'step': 2, 'parents': {}}, created_at='2025-09-25T11:03:34.953138+00:00', parent_config={'configurable': {'thread_id': '1', 'checkpoint_ns': '', 'checkpoint_id': '1f099ff4-6cc2-619a-8001-7ad1ba9d2fa4'}}, tasks=(), interrupts=()),\n",
       " StateSnapshot(values={'topic': 'Coffee mug', 'joke': 'Why did the coffee mug file a police report? Because it was mugged!'}, next=('generate_explanation',), config={'configurable': {'thread_id': '1', 'checkpoint_ns': '', 'checkpoint_id': '1f099ff4-6cc2-619a-8001-7ad1ba9d2fa4'}}, metadata={'source': 'loop', 'step': 1, 'parents': {}}, created_at='2025-09-25T11:03:33.197857+00:00', parent_config={'configurable': {'thread_id': '1', 'checkpoint_ns': '', 'checkpoint_id': '1f099ff4-5eba-6e80-8000-8d757dd87b37'}}, tasks=(PregelTask(id='49dce753-9456-8706-f9b0-359c6540b24f', name='generate_explanation', path=('__pregel_pull', 'generate_explanation'), error=None, interrupts=(), state=None, result={'explanation': 'This joke is a play on words. In this case, \"mugged\" is a term that means to be robbed or attacked. So, the coffee mug in the joke filed a police report because it was physically attacked, or \"mugged.\" It adds humor by using the word \"mug\" in a literal sense to create a silly and unexpected punchline.'}),), interrupts=()),\n",
       " StateSnapshot(values={'topic': 'Coffee mug'}, next=('generate_joke',), config={'configurable': {'thread_id': '1', 'checkpoint_ns': '', 'checkpoint_id': '1f099ff4-5eba-6e80-8000-8d757dd87b37'}}, metadata={'source': 'loop', 'step': 0, 'parents': {}}, created_at='2025-09-25T11:03:31.726876+00:00', parent_config={'configurable': {'thread_id': '1', 'checkpoint_ns': '', 'checkpoint_id': '1f099ff4-5eb6-65d8-bfff-ac047ef83765'}}, tasks=(PregelTask(id='8f98044c-b86f-05d1-21d5-ab1aac206004', name='generate_joke', path=('__pregel_pull', 'generate_joke'), error=None, interrupts=(), state=None, result={'joke': 'Why did the coffee mug file a police report? Because it was mugged!'}),), interrupts=()),\n",
       " StateSnapshot(values={}, next=('__start__',), config={'configurable': {'thread_id': '1', 'checkpoint_ns': '', 'checkpoint_id': '1f099ff4-5eb6-65d8-bfff-ac047ef83765'}}, metadata={'source': 'input', 'step': -1, 'parents': {}}, created_at='2025-09-25T11:03:31.725047+00:00', parent_config=None, tasks=(PregelTask(id='32d2ab07-c482-bd7d-efed-640983e32a84', name='__start__', path=('__pregel_pull', '__start__'), error=None, interrupts=(), state=None, result={'topic': 'Coffee mug'}),), interrupts=())]"
      ]
     },
     "execution_count": 10,
     "metadata": {},
     "output_type": "execute_result"
    }
   ],
   "source": [
    "list(workflow.get_state_history(config1))"
   ]
  },
  {
   "cell_type": "code",
   "execution_count": 11,
   "id": "9ad17f4e",
   "metadata": {},
   "outputs": [
    {
     "data": {
      "text/plain": [
       "{'topic': 'Flying Cars',\n",
       " 'joke': \"Why did the flying car break up with the airplane? \\n\\nBecause it couldn't handle high altitudes!\",\n",
       " 'explanation': 'This joke plays on the idea that a flying car, which is typically seen as a more low-flying mode of transportation, would not be able to handle the high altitudes that airplanes often travel at. The punchline implies that the flying car ended the relationship with the airplane because it was unable to function properly in high altitude environments.'}"
      ]
     },
     "execution_count": 11,
     "metadata": {},
     "output_type": "execute_result"
    }
   ],
   "source": [
    "workflow.invoke({'topic':'Flying Cars'}, config=config1)"
   ]
  },
  {
   "cell_type": "code",
   "execution_count": 12,
   "id": "25d06bc6",
   "metadata": {},
   "outputs": [
    {
     "data": {
      "text/plain": [
       "StateSnapshot(values={'topic': 'Flying Cars', 'joke': \"Why did the flying car break up with the airplane? \\n\\nBecause it couldn't handle high altitudes!\", 'explanation': 'This joke plays on the idea that a flying car, which is typically seen as a more low-flying mode of transportation, would not be able to handle the high altitudes that airplanes often travel at. The punchline implies that the flying car ended the relationship with the airplane because it was unable to function properly in high altitude environments.'}, next=(), config={'configurable': {'thread_id': '1', 'checkpoint_ns': '', 'checkpoint_id': '1f099ff4-930b-68d8-8006-dc4a206c11a3'}}, metadata={'source': 'loop', 'step': 6, 'parents': {}}, created_at='2025-09-25T11:03:37.212531+00:00', parent_config={'configurable': {'thread_id': '1', 'checkpoint_ns': '', 'checkpoint_id': '1f099ff4-86a0-64fe-8005-f479a74d144f'}}, tasks=(), interrupts=())"
      ]
     },
     "execution_count": 12,
     "metadata": {},
     "output_type": "execute_result"
    }
   ],
   "source": [
    "workflow.get_state(config1)"
   ]
  },
  {
   "cell_type": "code",
   "execution_count": 13,
   "id": "35c158f6",
   "metadata": {},
   "outputs": [
    {
     "data": {
      "text/plain": [
       "[StateSnapshot(values={'topic': 'Flying Cars', 'joke': \"Why did the flying car break up with the airplane? \\n\\nBecause it couldn't handle high altitudes!\", 'explanation': 'This joke plays on the idea that a flying car, which is typically seen as a more low-flying mode of transportation, would not be able to handle the high altitudes that airplanes often travel at. The punchline implies that the flying car ended the relationship with the airplane because it was unable to function properly in high altitude environments.'}, next=(), config={'configurable': {'thread_id': '1', 'checkpoint_ns': '', 'checkpoint_id': '1f099ff4-930b-68d8-8006-dc4a206c11a3'}}, metadata={'source': 'loop', 'step': 6, 'parents': {}}, created_at='2025-09-25T11:03:37.212531+00:00', parent_config={'configurable': {'thread_id': '1', 'checkpoint_ns': '', 'checkpoint_id': '1f099ff4-86a0-64fe-8005-f479a74d144f'}}, tasks=(), interrupts=()),\n",
       " StateSnapshot(values={'topic': 'Flying Cars', 'joke': \"Why did the flying car break up with the airplane? \\n\\nBecause it couldn't handle high altitudes!\", 'explanation': 'This joke is a play on words. In this case, \"mugged\" is a term that means to be robbed or attacked. So, the coffee mug in the joke filed a police report because it was physically attacked, or \"mugged.\" It adds humor by using the word \"mug\" in a literal sense to create a silly and unexpected punchline.'}, next=('generate_explanation',), config={'configurable': {'thread_id': '1', 'checkpoint_ns': '', 'checkpoint_id': '1f099ff4-86a0-64fe-8005-f479a74d144f'}}, metadata={'source': 'loop', 'step': 5, 'parents': {}}, created_at='2025-09-25T11:03:35.910314+00:00', parent_config={'configurable': {'thread_id': '1', 'checkpoint_ns': '', 'checkpoint_id': '1f099ff4-7ddb-6954-8004-e41d8ab682bf'}}, tasks=(PregelTask(id='238f50a8-8b22-ba6c-98cb-afa81edb332e', name='generate_explanation', path=('__pregel_pull', 'generate_explanation'), error=None, interrupts=(), state=None, result={'explanation': 'This joke plays on the idea that a flying car, which is typically seen as a more low-flying mode of transportation, would not be able to handle the high altitudes that airplanes often travel at. The punchline implies that the flying car ended the relationship with the airplane because it was unable to function properly in high altitude environments.'}),), interrupts=()),\n",
       " StateSnapshot(values={'topic': 'Flying Cars', 'joke': 'Why did the coffee mug file a police report? Because it was mugged!', 'explanation': 'This joke is a play on words. In this case, \"mugged\" is a term that means to be robbed or attacked. So, the coffee mug in the joke filed a police report because it was physically attacked, or \"mugged.\" It adds humor by using the word \"mug\" in a literal sense to create a silly and unexpected punchline.'}, next=('generate_joke',), config={'configurable': {'thread_id': '1', 'checkpoint_ns': '', 'checkpoint_id': '1f099ff4-7ddb-6954-8004-e41d8ab682bf'}}, metadata={'source': 'loop', 'step': 4, 'parents': {}}, created_at='2025-09-25T11:03:34.990866+00:00', parent_config={'configurable': {'thread_id': '1', 'checkpoint_ns': '', 'checkpoint_id': '1f099ff4-7dd9-61c2-8003-b4f1f2dc492b'}}, tasks=(PregelTask(id='a49c0daf-0657-550d-802a-69b5f53fc240', name='generate_joke', path=('__pregel_pull', 'generate_joke'), error=None, interrupts=(), state=None, result={'joke': \"Why did the flying car break up with the airplane? \\n\\nBecause it couldn't handle high altitudes!\"}),), interrupts=()),\n",
       " StateSnapshot(values={'topic': 'Coffee mug', 'joke': 'Why did the coffee mug file a police report? Because it was mugged!', 'explanation': 'This joke is a play on words. In this case, \"mugged\" is a term that means to be robbed or attacked. So, the coffee mug in the joke filed a police report because it was physically attacked, or \"mugged.\" It adds humor by using the word \"mug\" in a literal sense to create a silly and unexpected punchline.'}, next=('__start__',), config={'configurable': {'thread_id': '1', 'checkpoint_ns': '', 'checkpoint_id': '1f099ff4-7dd9-61c2-8003-b4f1f2dc492b'}}, metadata={'source': 'input', 'step': 3, 'parents': {}}, created_at='2025-09-25T11:03:34.989832+00:00', parent_config={'configurable': {'thread_id': '1', 'checkpoint_ns': '', 'checkpoint_id': '1f099ff4-7d7f-6762-8002-1d15018b3cf5'}}, tasks=(PregelTask(id='b1139300-cd9b-427c-bbb6-066e9c4a4156', name='__start__', path=('__pregel_pull', '__start__'), error=None, interrupts=(), state=None, result={'topic': 'Flying Cars'}),), interrupts=()),\n",
       " StateSnapshot(values={'topic': 'Coffee mug', 'joke': 'Why did the coffee mug file a police report? Because it was mugged!', 'explanation': 'This joke is a play on words. In this case, \"mugged\" is a term that means to be robbed or attacked. So, the coffee mug in the joke filed a police report because it was physically attacked, or \"mugged.\" It adds humor by using the word \"mug\" in a literal sense to create a silly and unexpected punchline.'}, next=(), config={'configurable': {'thread_id': '1', 'checkpoint_ns': '', 'checkpoint_id': '1f099ff4-7d7f-6762-8002-1d15018b3cf5'}}, metadata={'source': 'loop', 'step': 2, 'parents': {}}, created_at='2025-09-25T11:03:34.953138+00:00', parent_config={'configurable': {'thread_id': '1', 'checkpoint_ns': '', 'checkpoint_id': '1f099ff4-6cc2-619a-8001-7ad1ba9d2fa4'}}, tasks=(), interrupts=()),\n",
       " StateSnapshot(values={'topic': 'Coffee mug', 'joke': 'Why did the coffee mug file a police report? Because it was mugged!'}, next=('generate_explanation',), config={'configurable': {'thread_id': '1', 'checkpoint_ns': '', 'checkpoint_id': '1f099ff4-6cc2-619a-8001-7ad1ba9d2fa4'}}, metadata={'source': 'loop', 'step': 1, 'parents': {}}, created_at='2025-09-25T11:03:33.197857+00:00', parent_config={'configurable': {'thread_id': '1', 'checkpoint_ns': '', 'checkpoint_id': '1f099ff4-5eba-6e80-8000-8d757dd87b37'}}, tasks=(PregelTask(id='49dce753-9456-8706-f9b0-359c6540b24f', name='generate_explanation', path=('__pregel_pull', 'generate_explanation'), error=None, interrupts=(), state=None, result={'explanation': 'This joke is a play on words. In this case, \"mugged\" is a term that means to be robbed or attacked. So, the coffee mug in the joke filed a police report because it was physically attacked, or \"mugged.\" It adds humor by using the word \"mug\" in a literal sense to create a silly and unexpected punchline.'}),), interrupts=()),\n",
       " StateSnapshot(values={'topic': 'Coffee mug'}, next=('generate_joke',), config={'configurable': {'thread_id': '1', 'checkpoint_ns': '', 'checkpoint_id': '1f099ff4-5eba-6e80-8000-8d757dd87b37'}}, metadata={'source': 'loop', 'step': 0, 'parents': {}}, created_at='2025-09-25T11:03:31.726876+00:00', parent_config={'configurable': {'thread_id': '1', 'checkpoint_ns': '', 'checkpoint_id': '1f099ff4-5eb6-65d8-bfff-ac047ef83765'}}, tasks=(PregelTask(id='8f98044c-b86f-05d1-21d5-ab1aac206004', name='generate_joke', path=('__pregel_pull', 'generate_joke'), error=None, interrupts=(), state=None, result={'joke': 'Why did the coffee mug file a police report? Because it was mugged!'}),), interrupts=()),\n",
       " StateSnapshot(values={}, next=('__start__',), config={'configurable': {'thread_id': '1', 'checkpoint_ns': '', 'checkpoint_id': '1f099ff4-5eb6-65d8-bfff-ac047ef83765'}}, metadata={'source': 'input', 'step': -1, 'parents': {}}, created_at='2025-09-25T11:03:31.725047+00:00', parent_config=None, tasks=(PregelTask(id='32d2ab07-c482-bd7d-efed-640983e32a84', name='__start__', path=('__pregel_pull', '__start__'), error=None, interrupts=(), state=None, result={'topic': 'Coffee mug'}),), interrupts=())]"
      ]
     },
     "execution_count": 13,
     "metadata": {},
     "output_type": "execute_result"
    }
   ],
   "source": [
    "list(workflow.get_state_history(config1))"
   ]
  },
  {
   "cell_type": "markdown",
   "id": "781ac2c3",
   "metadata": {},
   "source": [
    "### Time Travel"
   ]
  },
  {
   "cell_type": "code",
   "execution_count": 21,
   "id": "95e2783f",
   "metadata": {},
   "outputs": [
    {
     "data": {
      "text/plain": [
       "[StateSnapshot(values={'topic': 'Flying Cars', 'joke': \"Why did the flying car break up with the airplane? \\n\\nBecause it couldn't handle high altitudes!\", 'explanation': 'This joke plays on the idea that a flying car, which is typically seen as a more low-flying mode of transportation, would not be able to handle the high altitudes that airplanes often travel at. The punchline implies that the flying car ended the relationship with the airplane because it was unable to function properly in high altitude environments.'}, next=(), config={'configurable': {'thread_id': '1', 'checkpoint_ns': '', 'checkpoint_id': '1f099ff4-930b-68d8-8006-dc4a206c11a3'}}, metadata={'source': 'loop', 'step': 6, 'parents': {}}, created_at='2025-09-25T11:03:37.212531+00:00', parent_config={'configurable': {'thread_id': '1', 'checkpoint_ns': '', 'checkpoint_id': '1f099ff4-86a0-64fe-8005-f479a74d144f'}}, tasks=(), interrupts=()),\n",
       " StateSnapshot(values={'topic': 'Flying Cars', 'joke': \"Why did the flying car break up with the airplane? \\n\\nBecause it couldn't handle high altitudes!\", 'explanation': 'This joke is a play on words. In this case, \"mugged\" is a term that means to be robbed or attacked. So, the coffee mug in the joke filed a police report because it was physically attacked, or \"mugged.\" It adds humor by using the word \"mug\" in a literal sense to create a silly and unexpected punchline.'}, next=('generate_explanation',), config={'configurable': {'thread_id': '1', 'checkpoint_ns': '', 'checkpoint_id': '1f099ff4-86a0-64fe-8005-f479a74d144f'}}, metadata={'source': 'loop', 'step': 5, 'parents': {}}, created_at='2025-09-25T11:03:35.910314+00:00', parent_config={'configurable': {'thread_id': '1', 'checkpoint_ns': '', 'checkpoint_id': '1f099ff4-7ddb-6954-8004-e41d8ab682bf'}}, tasks=(PregelTask(id='238f50a8-8b22-ba6c-98cb-afa81edb332e', name='generate_explanation', path=('__pregel_pull', 'generate_explanation'), error=None, interrupts=(), state=None, result={'explanation': 'This joke plays on the idea that a flying car, which is typically seen as a more low-flying mode of transportation, would not be able to handle the high altitudes that airplanes often travel at. The punchline implies that the flying car ended the relationship with the airplane because it was unable to function properly in high altitude environments.'}),), interrupts=()),\n",
       " StateSnapshot(values={'topic': 'Flying Cars', 'joke': 'Why did the coffee mug file a police report? Because it was mugged!', 'explanation': 'This joke is a play on words. In this case, \"mugged\" is a term that means to be robbed or attacked. So, the coffee mug in the joke filed a police report because it was physically attacked, or \"mugged.\" It adds humor by using the word \"mug\" in a literal sense to create a silly and unexpected punchline.'}, next=('generate_joke',), config={'configurable': {'thread_id': '1', 'checkpoint_ns': '', 'checkpoint_id': '1f099ff4-7ddb-6954-8004-e41d8ab682bf'}}, metadata={'source': 'loop', 'step': 4, 'parents': {}}, created_at='2025-09-25T11:03:34.990866+00:00', parent_config={'configurable': {'thread_id': '1', 'checkpoint_ns': '', 'checkpoint_id': '1f099ff4-7dd9-61c2-8003-b4f1f2dc492b'}}, tasks=(PregelTask(id='a49c0daf-0657-550d-802a-69b5f53fc240', name='generate_joke', path=('__pregel_pull', 'generate_joke'), error=None, interrupts=(), state=None, result={'joke': \"Why did the flying car break up with the airplane? \\n\\nBecause it couldn't handle high altitudes!\"}),), interrupts=()),\n",
       " StateSnapshot(values={'topic': 'Coffee mug', 'joke': 'Why did the coffee mug file a police report? Because it was mugged!', 'explanation': 'This joke is a play on words. In this case, \"mugged\" is a term that means to be robbed or attacked. So, the coffee mug in the joke filed a police report because it was physically attacked, or \"mugged.\" It adds humor by using the word \"mug\" in a literal sense to create a silly and unexpected punchline.'}, next=('__start__',), config={'configurable': {'thread_id': '1', 'checkpoint_ns': '', 'checkpoint_id': '1f099ff4-7dd9-61c2-8003-b4f1f2dc492b'}}, metadata={'source': 'input', 'step': 3, 'parents': {}}, created_at='2025-09-25T11:03:34.989832+00:00', parent_config={'configurable': {'thread_id': '1', 'checkpoint_ns': '', 'checkpoint_id': '1f099ff4-7d7f-6762-8002-1d15018b3cf5'}}, tasks=(PregelTask(id='b1139300-cd9b-427c-bbb6-066e9c4a4156', name='__start__', path=('__pregel_pull', '__start__'), error=None, interrupts=(), state=None, result={'topic': 'Flying Cars'}),), interrupts=()),\n",
       " StateSnapshot(values={'topic': 'Coffee mug', 'joke': 'Why did the coffee mug file a police report? Because it was mugged!', 'explanation': 'This joke is a play on words. In this case, \"mugged\" is a term that means to be robbed or attacked. So, the coffee mug in the joke filed a police report because it was physically attacked, or \"mugged.\" It adds humor by using the word \"mug\" in a literal sense to create a silly and unexpected punchline.'}, next=(), config={'configurable': {'thread_id': '1', 'checkpoint_ns': '', 'checkpoint_id': '1f099ff4-7d7f-6762-8002-1d15018b3cf5'}}, metadata={'source': 'loop', 'step': 2, 'parents': {}}, created_at='2025-09-25T11:03:34.953138+00:00', parent_config={'configurable': {'thread_id': '1', 'checkpoint_ns': '', 'checkpoint_id': '1f099ff4-6cc2-619a-8001-7ad1ba9d2fa4'}}, tasks=(), interrupts=()),\n",
       " StateSnapshot(values={'topic': 'Coffee mug', 'joke': 'Why did the coffee mug file a police report? Because it was mugged!'}, next=('generate_explanation',), config={'configurable': {'thread_id': '1', 'checkpoint_ns': '', 'checkpoint_id': '1f099ff4-6cc2-619a-8001-7ad1ba9d2fa4'}}, metadata={'source': 'loop', 'step': 1, 'parents': {}}, created_at='2025-09-25T11:03:33.197857+00:00', parent_config={'configurable': {'thread_id': '1', 'checkpoint_ns': '', 'checkpoint_id': '1f099ff4-5eba-6e80-8000-8d757dd87b37'}}, tasks=(PregelTask(id='49dce753-9456-8706-f9b0-359c6540b24f', name='generate_explanation', path=('__pregel_pull', 'generate_explanation'), error=None, interrupts=(), state=None, result={'explanation': 'This joke is a play on words. In this case, \"mugged\" is a term that means to be robbed or attacked. So, the coffee mug in the joke filed a police report because it was physically attacked, or \"mugged.\" It adds humor by using the word \"mug\" in a literal sense to create a silly and unexpected punchline.'}),), interrupts=()),\n",
       " StateSnapshot(values={'topic': 'Coffee mug'}, next=('generate_joke',), config={'configurable': {'thread_id': '1', 'checkpoint_ns': '', 'checkpoint_id': '1f099ff4-5eba-6e80-8000-8d757dd87b37'}}, metadata={'source': 'loop', 'step': 0, 'parents': {}}, created_at='2025-09-25T11:03:31.726876+00:00', parent_config={'configurable': {'thread_id': '1', 'checkpoint_ns': '', 'checkpoint_id': '1f099ff4-5eb6-65d8-bfff-ac047ef83765'}}, tasks=(PregelTask(id='8f98044c-b86f-05d1-21d5-ab1aac206004', name='generate_joke', path=('__pregel_pull', 'generate_joke'), error=None, interrupts=(), state=None, result={'joke': 'Why did the coffee mug file a police report? Because it was mugged!'}),), interrupts=()),\n",
       " StateSnapshot(values={}, next=('__start__',), config={'configurable': {'thread_id': '1', 'checkpoint_ns': '', 'checkpoint_id': '1f099ff4-5eb6-65d8-bfff-ac047ef83765'}}, metadata={'source': 'input', 'step': -1, 'parents': {}}, created_at='2025-09-25T11:03:31.725047+00:00', parent_config=None, tasks=(PregelTask(id='32d2ab07-c482-bd7d-efed-640983e32a84', name='__start__', path=('__pregel_pull', '__start__'), error=None, interrupts=(), state=None, result={'topic': 'Coffee mug'}),), interrupts=())]"
      ]
     },
     "execution_count": 21,
     "metadata": {},
     "output_type": "execute_result"
    }
   ],
   "source": [
    "list(workflow.get_state_history(config1))"
   ]
  },
  {
   "cell_type": "code",
   "execution_count": 24,
   "id": "7e8184da",
   "metadata": {},
   "outputs": [
    {
     "data": {
      "text/plain": [
       "StateSnapshot(values={'topic': 'Coffee mug'}, next=('generate_joke',), config={'configurable': {'thread_id': '1', 'checkpoint_id': '1f099ff4-5eba-6e80-8000-8d757dd87b37'}}, metadata={'source': 'loop', 'step': 0, 'parents': {}}, created_at='2025-09-25T11:03:31.726876+00:00', parent_config={'configurable': {'thread_id': '1', 'checkpoint_ns': '', 'checkpoint_id': '1f099ff4-5eb6-65d8-bfff-ac047ef83765'}}, tasks=(PregelTask(id='8f98044c-b86f-05d1-21d5-ab1aac206004', name='generate_joke', path=('__pregel_pull', 'generate_joke'), error=None, interrupts=(), state=None, result={'joke': 'Why did the coffee mug file a police report? Because it was mugged!'}),), interrupts=())"
      ]
     },
     "execution_count": 24,
     "metadata": {},
     "output_type": "execute_result"
    }
   ],
   "source": [
    "workflow.get_state({'configurable': {'thread_id': '1', 'checkpoint_id': '1f099ff4-5eba-6e80-8000-8d757dd87b37'}})"
   ]
  },
  {
   "cell_type": "code",
   "execution_count": 25,
   "id": "a0b7940d",
   "metadata": {},
   "outputs": [
    {
     "data": {
      "text/plain": [
       "{'topic': 'Coffee mug',\n",
       " 'joke': 'Why did the coffee mug file a police report? Because it was mugged!',\n",
       " 'explanation': 'This joke is a play on words, using the term \"mugged\" which can mean to physically attack and rob someone, or to be in possession of a mug or cup. In this case, the joke makes a pun by suggesting that the coffee mug filed a police report because it was physically attacked and robbed, even though in reality, it was just a play on the word \"mug.\"'}"
      ]
     },
     "execution_count": 25,
     "metadata": {},
     "output_type": "execute_result"
    }
   ],
   "source": [
    "workflow.invoke(None, {'configurable': {'thread_id': '1', 'checkpoint_id': '1f099ff4-5eba-6e80-8000-8d757dd87b37'}})"
   ]
  },
  {
   "cell_type": "code",
   "execution_count": 26,
   "id": "af56a170",
   "metadata": {},
   "outputs": [
    {
     "data": {
      "text/plain": [
       "[StateSnapshot(values={'topic': 'Coffee mug', 'joke': 'Why did the coffee mug file a police report? Because it was mugged!', 'explanation': 'This joke is a play on words, using the term \"mugged\" which can mean to physically attack and rob someone, or to be in possession of a mug or cup. In this case, the joke makes a pun by suggesting that the coffee mug filed a police report because it was physically attacked and robbed, even though in reality, it was just a play on the word \"mug.\"'}, next=(), config={'configurable': {'thread_id': '1', 'checkpoint_ns': '', 'checkpoint_id': '1f09a005-4322-6d10-8002-c15b745df82c'}}, metadata={'source': 'loop', 'step': 2, 'parents': {}}, created_at='2025-09-25T11:11:05.173722+00:00', parent_config={'configurable': {'thread_id': '1', 'checkpoint_ns': '', 'checkpoint_id': '1f09a005-3623-6808-8001-3733abf08dc2'}}, tasks=(), interrupts=()),\n",
       " StateSnapshot(values={'topic': 'Coffee mug', 'joke': 'Why did the coffee mug file a police report? Because it was mugged!'}, next=('generate_explanation',), config={'configurable': {'thread_id': '1', 'checkpoint_ns': '', 'checkpoint_id': '1f09a005-3623-6808-8001-3733abf08dc2'}}, metadata={'source': 'loop', 'step': 1, 'parents': {}}, created_at='2025-09-25T11:11:03.810853+00:00', parent_config={'configurable': {'thread_id': '1', 'checkpoint_ns': '', 'checkpoint_id': '1f099ff4-5eba-6e80-8000-8d757dd87b37'}}, tasks=(PregelTask(id='653813aa-cfdf-fbb1-8c84-29e1d7876678', name='generate_explanation', path=('__pregel_pull', 'generate_explanation'), error=None, interrupts=(), state=None, result={'explanation': 'This joke is a play on words, using the term \"mugged\" which can mean to physically attack and rob someone, or to be in possession of a mug or cup. In this case, the joke makes a pun by suggesting that the coffee mug filed a police report because it was physically attacked and robbed, even though in reality, it was just a play on the word \"mug.\"'}),), interrupts=()),\n",
       " StateSnapshot(values={'topic': 'Flying Cars', 'joke': \"Why did the flying car break up with the airplane? \\n\\nBecause it couldn't handle high altitudes!\", 'explanation': 'This joke plays on the idea that a flying car, which is typically seen as a more low-flying mode of transportation, would not be able to handle the high altitudes that airplanes often travel at. The punchline implies that the flying car ended the relationship with the airplane because it was unable to function properly in high altitude environments.'}, next=(), config={'configurable': {'thread_id': '1', 'checkpoint_ns': '', 'checkpoint_id': '1f099ff4-930b-68d8-8006-dc4a206c11a3'}}, metadata={'source': 'loop', 'step': 6, 'parents': {}}, created_at='2025-09-25T11:03:37.212531+00:00', parent_config={'configurable': {'thread_id': '1', 'checkpoint_ns': '', 'checkpoint_id': '1f099ff4-86a0-64fe-8005-f479a74d144f'}}, tasks=(), interrupts=()),\n",
       " StateSnapshot(values={'topic': 'Flying Cars', 'joke': \"Why did the flying car break up with the airplane? \\n\\nBecause it couldn't handle high altitudes!\", 'explanation': 'This joke is a play on words. In this case, \"mugged\" is a term that means to be robbed or attacked. So, the coffee mug in the joke filed a police report because it was physically attacked, or \"mugged.\" It adds humor by using the word \"mug\" in a literal sense to create a silly and unexpected punchline.'}, next=('generate_explanation',), config={'configurable': {'thread_id': '1', 'checkpoint_ns': '', 'checkpoint_id': '1f099ff4-86a0-64fe-8005-f479a74d144f'}}, metadata={'source': 'loop', 'step': 5, 'parents': {}}, created_at='2025-09-25T11:03:35.910314+00:00', parent_config={'configurable': {'thread_id': '1', 'checkpoint_ns': '', 'checkpoint_id': '1f099ff4-7ddb-6954-8004-e41d8ab682bf'}}, tasks=(PregelTask(id='238f50a8-8b22-ba6c-98cb-afa81edb332e', name='generate_explanation', path=('__pregel_pull', 'generate_explanation'), error=None, interrupts=(), state=None, result={'explanation': 'This joke plays on the idea that a flying car, which is typically seen as a more low-flying mode of transportation, would not be able to handle the high altitudes that airplanes often travel at. The punchline implies that the flying car ended the relationship with the airplane because it was unable to function properly in high altitude environments.'}),), interrupts=()),\n",
       " StateSnapshot(values={'topic': 'Flying Cars', 'joke': 'Why did the coffee mug file a police report? Because it was mugged!', 'explanation': 'This joke is a play on words. In this case, \"mugged\" is a term that means to be robbed or attacked. So, the coffee mug in the joke filed a police report because it was physically attacked, or \"mugged.\" It adds humor by using the word \"mug\" in a literal sense to create a silly and unexpected punchline.'}, next=('generate_joke',), config={'configurable': {'thread_id': '1', 'checkpoint_ns': '', 'checkpoint_id': '1f099ff4-7ddb-6954-8004-e41d8ab682bf'}}, metadata={'source': 'loop', 'step': 4, 'parents': {}}, created_at='2025-09-25T11:03:34.990866+00:00', parent_config={'configurable': {'thread_id': '1', 'checkpoint_ns': '', 'checkpoint_id': '1f099ff4-7dd9-61c2-8003-b4f1f2dc492b'}}, tasks=(PregelTask(id='a49c0daf-0657-550d-802a-69b5f53fc240', name='generate_joke', path=('__pregel_pull', 'generate_joke'), error=None, interrupts=(), state=None, result={'joke': \"Why did the flying car break up with the airplane? \\n\\nBecause it couldn't handle high altitudes!\"}),), interrupts=()),\n",
       " StateSnapshot(values={'topic': 'Coffee mug', 'joke': 'Why did the coffee mug file a police report? Because it was mugged!', 'explanation': 'This joke is a play on words. In this case, \"mugged\" is a term that means to be robbed or attacked. So, the coffee mug in the joke filed a police report because it was physically attacked, or \"mugged.\" It adds humor by using the word \"mug\" in a literal sense to create a silly and unexpected punchline.'}, next=('__start__',), config={'configurable': {'thread_id': '1', 'checkpoint_ns': '', 'checkpoint_id': '1f099ff4-7dd9-61c2-8003-b4f1f2dc492b'}}, metadata={'source': 'input', 'step': 3, 'parents': {}}, created_at='2025-09-25T11:03:34.989832+00:00', parent_config={'configurable': {'thread_id': '1', 'checkpoint_ns': '', 'checkpoint_id': '1f099ff4-7d7f-6762-8002-1d15018b3cf5'}}, tasks=(PregelTask(id='b1139300-cd9b-427c-bbb6-066e9c4a4156', name='__start__', path=('__pregel_pull', '__start__'), error=None, interrupts=(), state=None, result={'topic': 'Flying Cars'}),), interrupts=()),\n",
       " StateSnapshot(values={'topic': 'Coffee mug', 'joke': 'Why did the coffee mug file a police report? Because it was mugged!', 'explanation': 'This joke is a play on words. In this case, \"mugged\" is a term that means to be robbed or attacked. So, the coffee mug in the joke filed a police report because it was physically attacked, or \"mugged.\" It adds humor by using the word \"mug\" in a literal sense to create a silly and unexpected punchline.'}, next=(), config={'configurable': {'thread_id': '1', 'checkpoint_ns': '', 'checkpoint_id': '1f099ff4-7d7f-6762-8002-1d15018b3cf5'}}, metadata={'source': 'loop', 'step': 2, 'parents': {}}, created_at='2025-09-25T11:03:34.953138+00:00', parent_config={'configurable': {'thread_id': '1', 'checkpoint_ns': '', 'checkpoint_id': '1f099ff4-6cc2-619a-8001-7ad1ba9d2fa4'}}, tasks=(), interrupts=()),\n",
       " StateSnapshot(values={'topic': 'Coffee mug', 'joke': 'Why did the coffee mug file a police report? Because it was mugged!'}, next=('generate_explanation',), config={'configurable': {'thread_id': '1', 'checkpoint_ns': '', 'checkpoint_id': '1f099ff4-6cc2-619a-8001-7ad1ba9d2fa4'}}, metadata={'source': 'loop', 'step': 1, 'parents': {}}, created_at='2025-09-25T11:03:33.197857+00:00', parent_config={'configurable': {'thread_id': '1', 'checkpoint_ns': '', 'checkpoint_id': '1f099ff4-5eba-6e80-8000-8d757dd87b37'}}, tasks=(PregelTask(id='49dce753-9456-8706-f9b0-359c6540b24f', name='generate_explanation', path=('__pregel_pull', 'generate_explanation'), error=None, interrupts=(), state=None, result={'explanation': 'This joke is a play on words. In this case, \"mugged\" is a term that means to be robbed or attacked. So, the coffee mug in the joke filed a police report because it was physically attacked, or \"mugged.\" It adds humor by using the word \"mug\" in a literal sense to create a silly and unexpected punchline.'}),), interrupts=()),\n",
       " StateSnapshot(values={'topic': 'Coffee mug'}, next=('generate_joke',), config={'configurable': {'thread_id': '1', 'checkpoint_ns': '', 'checkpoint_id': '1f099ff4-5eba-6e80-8000-8d757dd87b37'}}, metadata={'source': 'loop', 'step': 0, 'parents': {}}, created_at='2025-09-25T11:03:31.726876+00:00', parent_config={'configurable': {'thread_id': '1', 'checkpoint_ns': '', 'checkpoint_id': '1f099ff4-5eb6-65d8-bfff-ac047ef83765'}}, tasks=(PregelTask(id='8f98044c-b86f-05d1-21d5-ab1aac206004', name='generate_joke', path=('__pregel_pull', 'generate_joke'), error=None, interrupts=(), state=None, result={'joke': 'Why did the coffee mug file a police report? Because it was mugged!'}),), interrupts=()),\n",
       " StateSnapshot(values={}, next=('__start__',), config={'configurable': {'thread_id': '1', 'checkpoint_ns': '', 'checkpoint_id': '1f099ff4-5eb6-65d8-bfff-ac047ef83765'}}, metadata={'source': 'input', 'step': -1, 'parents': {}}, created_at='2025-09-25T11:03:31.725047+00:00', parent_config=None, tasks=(PregelTask(id='32d2ab07-c482-bd7d-efed-640983e32a84', name='__start__', path=('__pregel_pull', '__start__'), error=None, interrupts=(), state=None, result={'topic': 'Coffee mug'}),), interrupts=())]"
      ]
     },
     "execution_count": 26,
     "metadata": {},
     "output_type": "execute_result"
    }
   ],
   "source": [
    "list(workflow.get_state_history(config1))"
   ]
  },
  {
   "cell_type": "markdown",
   "id": "9b6a0329",
   "metadata": {},
   "source": [
    "## Fault Tolerance"
   ]
  },
  {
   "cell_type": "code",
   "execution_count": 14,
   "id": "a49ae360",
   "metadata": {},
   "outputs": [],
   "source": [
    "import time"
   ]
  },
  {
   "cell_type": "code",
   "execution_count": 15,
   "id": "20030db9",
   "metadata": {},
   "outputs": [],
   "source": [
    "# 1. Define the state\n",
    "class CrashState(TypedDict):\n",
    "    input: str\n",
    "    step1: str\n",
    "    step2: str"
   ]
  },
  {
   "cell_type": "code",
   "execution_count": 16,
   "id": "3b8e1e65",
   "metadata": {},
   "outputs": [],
   "source": [
    "# 2. Define steps\n",
    "def step_1(state: CrashState) -> CrashState:\n",
    "    print(\"✅ Step 1 executed\")\n",
    "    return {\"step1\": \"done\", \"input\": state[\"input\"]}\n",
    "\n",
    "def step_2(state: CrashState) -> CrashState:\n",
    "    print(\"⏳ Step 2 hanging... now manually interrupt from the notebook toolbar (STOP button)\")\n",
    "    time.sleep(10)  # Simulate long-running hang\n",
    "    return {\"step2\": \"done\"}\n",
    "\n",
    "def step_3(state: CrashState) -> CrashState:\n",
    "    print(\"✅ Step 3 executed\")\n",
    "    return {\"done\": True}"
   ]
  },
  {
   "cell_type": "code",
   "execution_count": 17,
   "id": "4529628f",
   "metadata": {},
   "outputs": [],
   "source": [
    "# 3. Build the graph\n",
    "builder = StateGraph(CrashState)\n",
    "builder.add_node(\"step_1\", step_1)\n",
    "builder.add_node(\"step_2\", step_2)\n",
    "builder.add_node(\"step_3\", step_3)\n",
    "\n",
    "builder.set_entry_point(\"step_1\")\n",
    "builder.add_edge(\"step_1\", \"step_2\")\n",
    "builder.add_edge(\"step_2\", \"step_3\")\n",
    "builder.add_edge(\"step_3\", END)\n",
    "\n",
    "checkpointer = InMemorySaver()\n",
    "graph = builder.compile(checkpointer=checkpointer)"
   ]
  },
  {
   "cell_type": "code",
   "execution_count": 18,
   "id": "23db7555",
   "metadata": {},
   "outputs": [
    {
     "name": "stdout",
     "output_type": "stream",
     "text": [
      "▶️ Running graph: Please manually interrupt during Step 2...\n",
      "✅ Step 1 executed\n",
      "⏳ Step 2 hanging... now manually interrupt from the notebook toolbar (STOP button)\n",
      "❌ Kernel manually interrupted (crash simulated).\n"
     ]
    }
   ],
   "source": [
    "try:\n",
    "    print(\"▶️ Running graph: Please manually interrupt during Step 2...\")\n",
    "    graph.invoke({\"input\": \"start\"}, config={\"configurable\": {\"thread_id\": 'thread-1'}})\n",
    "except KeyboardInterrupt:\n",
    "    print(\"❌ Kernel manually interrupted (crash simulated).\")"
   ]
  },
  {
   "cell_type": "code",
   "execution_count": 19,
   "id": "f9b2a70f",
   "metadata": {},
   "outputs": [
    {
     "name": "stdout",
     "output_type": "stream",
     "text": [
      "\n",
      "🔁 Re-running the graph to demonstrate fault tolerance...\n",
      "⏳ Step 2 hanging... now manually interrupt from the notebook toolbar (STOP button)\n",
      "✅ Step 3 executed\n",
      "\n",
      "✅ Final State: {'input': 'start', 'step1': 'done', 'step2': 'done'}\n"
     ]
    }
   ],
   "source": [
    "print(\"\\n🔁 Re-running the graph to demonstrate fault tolerance...\")\n",
    "final_state = graph.invoke(None, config={\"configurable\": {\"thread_id\": 'thread-1'}})\n",
    "print(\"\\n✅ Final State:\", final_state)"
   ]
  },
  {
   "cell_type": "code",
   "execution_count": 20,
   "id": "64f3f146",
   "metadata": {},
   "outputs": [
    {
     "data": {
      "text/plain": [
       "[StateSnapshot(values={'input': 'start', 'step1': 'done', 'step2': 'done'}, next=(), config={'configurable': {'thread_id': 'thread-1', 'checkpoint_ns': '', 'checkpoint_id': '1f099ff5-8318-652e-8003-44bd3e5aba46'}}, metadata={'source': 'loop', 'step': 3, 'parents': {}}, created_at='2025-09-25T11:04:02.383589+00:00', parent_config={'configurable': {'thread_id': 'thread-1', 'checkpoint_ns': '', 'checkpoint_id': '1f099ff5-8316-61b6-8002-5917c5b1f2a3'}}, tasks=(), interrupts=()),\n",
       " StateSnapshot(values={'input': 'start', 'step1': 'done', 'step2': 'done'}, next=('step_3',), config={'configurable': {'thread_id': 'thread-1', 'checkpoint_ns': '', 'checkpoint_id': '1f099ff5-8316-61b6-8002-5917c5b1f2a3'}}, metadata={'source': 'loop', 'step': 2, 'parents': {}}, created_at='2025-09-25T11:04:02.382677+00:00', parent_config={'configurable': {'thread_id': 'thread-1', 'checkpoint_ns': '', 'checkpoint_id': '1f099ff4-cfbf-64c8-8001-d22999354a95'}}, tasks=(PregelTask(id='768cf4a7-5fa3-24b7-b60c-b39f7577d55a', name='step_3', path=('__pregel_pull', 'step_3'), error=None, interrupts=(), state=None, result={}),), interrupts=()),\n",
       " StateSnapshot(values={'input': 'start', 'step1': 'done'}, next=('step_2',), config={'configurable': {'thread_id': 'thread-1', 'checkpoint_ns': '', 'checkpoint_id': '1f099ff4-cfbf-64c8-8001-d22999354a95'}}, metadata={'source': 'loop', 'step': 1, 'parents': {}}, created_at='2025-09-25T11:03:43.577614+00:00', parent_config={'configurable': {'thread_id': 'thread-1', 'checkpoint_ns': '', 'checkpoint_id': '1f099ff4-cfbc-6c3c-8000-f0d327230daa'}}, tasks=(PregelTask(id='877a0ac9-79c5-847c-c383-127a359166a6', name='step_2', path=('__pregel_pull', 'step_2'), error=None, interrupts=(), state=None, result={'step2': 'done'}),), interrupts=()),\n",
       " StateSnapshot(values={'input': 'start'}, next=('step_1',), config={'configurable': {'thread_id': 'thread-1', 'checkpoint_ns': '', 'checkpoint_id': '1f099ff4-cfbc-6c3c-8000-f0d327230daa'}}, metadata={'source': 'loop', 'step': 0, 'parents': {}}, created_at='2025-09-25T11:03:43.576572+00:00', parent_config={'configurable': {'thread_id': 'thread-1', 'checkpoint_ns': '', 'checkpoint_id': '1f099ff4-cfba-686a-bfff-eb50ca7e15e2'}}, tasks=(PregelTask(id='24eebd6a-857d-9aba-5e0f-e7470bc1ee1d', name='step_1', path=('__pregel_pull', 'step_1'), error=None, interrupts=(), state=None, result={'step1': 'done', 'input': 'start'}),), interrupts=()),\n",
       " StateSnapshot(values={}, next=('__start__',), config={'configurable': {'thread_id': 'thread-1', 'checkpoint_ns': '', 'checkpoint_id': '1f099ff4-cfba-686a-bfff-eb50ca7e15e2'}}, metadata={'source': 'input', 'step': -1, 'parents': {}}, created_at='2025-09-25T11:03:43.575656+00:00', parent_config=None, tasks=(PregelTask(id='f9236039-9277-9502-10b0-165ecc813530', name='__start__', path=('__pregel_pull', '__start__'), error=None, interrupts=(), state=None, result={'input': 'start'}),), interrupts=())]"
      ]
     },
     "execution_count": 20,
     "metadata": {},
     "output_type": "execute_result"
    }
   ],
   "source": [
    "list(graph.get_state_history({\"configurable\": {\"thread_id\": 'thread-1'}}))"
   ]
  },
  {
   "cell_type": "code",
   "execution_count": null,
   "id": "c02f9d77",
   "metadata": {},
   "outputs": [],
   "source": []
  }
 ],
 "metadata": {
  "kernelspec": {
   "display_name": "langgraph-campusx",
   "language": "python",
   "name": "python3"
  },
  "language_info": {
   "codemirror_mode": {
    "name": "ipython",
    "version": 3
   },
   "file_extension": ".py",
   "mimetype": "text/x-python",
   "name": "python",
   "nbconvert_exporter": "python",
   "pygments_lexer": "ipython3",
   "version": "3.12.7"
  }
 },
 "nbformat": 4,
 "nbformat_minor": 5
}
