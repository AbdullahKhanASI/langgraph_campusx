{
 "cells": [
  {
   "cell_type": "code",
   "execution_count": 21,
   "id": "10cd656c",
   "metadata": {},
   "outputs": [],
   "source": [
    "from langgraph.graph import StateGraph, START, END\n",
    "from typing import TypedDict\n",
    "from langchain_openai import ChatOpenAI\n",
    "from dotenv import load_dotenv\n",
    "from langchain.prompts import PromptTemplate\n",
    "import os\n",
    "from pydantic import BaseModel, Field\n",
    "import operator\n",
    "from typing import Annotated, Literal"
   ]
  },
  {
   "cell_type": "code",
   "execution_count": 22,
   "id": "ba540072",
   "metadata": {},
   "outputs": [
    {
     "data": {
      "text/plain": [
       "True"
      ]
     },
     "execution_count": 22,
     "metadata": {},
     "output_type": "execute_result"
    }
   ],
   "source": [
    "load_dotenv()"
   ]
  },
  {
   "cell_type": "code",
   "execution_count": 23,
   "id": "59c0dc1c",
   "metadata": {},
   "outputs": [],
   "source": [
    "model = ChatOpenAI(model=\"gpt-4o-mini\")"
   ]
  },
  {
   "cell_type": "code",
   "execution_count": 24,
   "id": "034a4a7f",
   "metadata": {},
   "outputs": [],
   "source": [
    "class QuadState(TypedDict):\n",
    "    a: float\n",
    "    b: float\n",
    "    c: float\n",
    "    \n",
    "    equation: str\n",
    "    discriminant: float\n",
    "    result: str"
   ]
  },
  {
   "cell_type": "code",
   "execution_count": 30,
   "id": "81236467",
   "metadata": {},
   "outputs": [],
   "source": [
    "def show_equation(state: QuadState):\n",
    "    equation = f\"The quadratic equation is: {state['a']}x^2 + {state['b']}x + {state['c']} = 0\"\n",
    "    return {\"equation\": equation}"
   ]
  },
  {
   "cell_type": "code",
   "execution_count": 31,
   "id": "8de4037b",
   "metadata": {},
   "outputs": [],
   "source": [
    "def calculate_discriminant(state: QuadState):\n",
    "    discriminant = state['b']**2 - 4*state['a']*state['c']\n",
    "    return {\"discriminant\": discriminant}"
   ]
  },
  {
   "cell_type": "code",
   "execution_count": 32,
   "id": "5b557c26",
   "metadata": {},
   "outputs": [],
   "source": [
    "def real_roots(state: QuadState):\n",
    "    root1 = (-state[\"b\"] + state[\"discriminant\"] ** 0.5) / (2 * state[\"a\"])\n",
    "    root2 = (-state[\"b\"] - state[\"discriminant\"] ** 0.5) / (2 * state[\"a\"])\n",
    "    result = f\"The roots are {root1} and {root2}\"\n",
    "    \n",
    "    return {\"result\": result}\n",
    "\n",
    "def no_real_root(state: QuadState):\n",
    "    result = f\"No real roots\"\n",
    "    \n",
    "    return {\"result\": result}\n",
    "\n",
    "def repeated_root(state: QuadState):\n",
    "    root = (-state[\"b\"]) / (2 * state[\"a\"])\n",
    "    result = f\"Only repeating root is {root}\"\n",
    "    \n",
    "    return {\"result\": result}\n",
    "\n",
    "def check_condition(state: QuadState) -> Literal[\"real_roots\", \"no_real_root\", \"repeated_root\"]:\n",
    "    if state[\"discriminant\"] > 0:\n",
    "        return \"real_roots\"\n",
    "    elif state[\"discriminant\"] == 0:\n",
    "        return \"repeated_root\"\n",
    "    else:\n",
    "        return \"no_real_root\""
   ]
  },
  {
   "cell_type": "code",
   "execution_count": 33,
   "id": "c7baec24",
   "metadata": {},
   "outputs": [],
   "source": [
    "# Create graph\n",
    "graph = StateGraph(QuadState)\n",
    "\n",
    "# Create nodes\n",
    "graph.add_node(\"show_equation\", show_equation)\n",
    "graph.add_node(\"calculate_discriminant\", calculate_discriminant)\n",
    "graph.add_node(\"real_roots\", real_roots)\n",
    "graph.add_node(\"no_real_root\", no_real_root)\n",
    "graph.add_node(\"repeated_root\", repeated_root)\n",
    "\n",
    "# Define edges\n",
    "graph.add_edge(START, \"show_equation\")\n",
    "graph.add_edge(\"show_equation\", \"calculate_discriminant\")\n",
    "\n",
    "graph.add_conditional_edges(\"calculate_discriminant\", check_condition)\n",
    "\n",
    "graph.add_edge(\"real_roots\", END)\n",
    "graph.add_edge(\"no_real_root\", END)\n",
    "graph.add_edge(\"repeated_root\", END)\n",
    "\n",
    "# Compile the graph\n",
    "workflow = graph.compile()"
   ]
  },
  {
   "cell_type": "code",
   "execution_count": 16,
   "id": "0e6bb48b",
   "metadata": {},
   "outputs": [
    {
     "data": {
      "text/plain": [
       "{'a': 4,\n",
       " 'b': -5,\n",
       " 'c': -4,\n",
       " 'equation': 'The quadratic equation is: 4x^2 + -5x + -4 = 0',\n",
       " 'discriminant': 89}"
      ]
     },
     "execution_count": 16,
     "metadata": {},
     "output_type": "execute_result"
    }
   ],
   "source": [
    "initial_state = {\n",
    "    \"a\": 4,\n",
    "    \"b\": -5,\n",
    "    \"c\": -4\n",
    "}\n",
    "\n",
    "workflow.invoke(initial_state)"
   ]
  },
  {
   "cell_type": "code",
   "execution_count": 34,
   "id": "a6d78bc3",
   "metadata": {},
   "outputs": [
    {
     "data": {
      "image/png": "[encoded data removed]",
      "text/plain": [
       "<langgraph.graph.state.CompiledStateGraph object at 0x1117ac710>"
      ]
     },
     "execution_count": 34,
     "metadata": {},
     "output_type": "execute_result"
    }
   ],
   "source": [
    "workflow"
   ]
  },
  {
   "cell_type": "code",
   "execution_count": 35,
   "id": "d08286a4",
   "metadata": {},
   "outputs": [
    {
     "data": {
      "text/plain": [
       "{'a': 4,\n",
       " 'b': -5,\n",
       " 'c': -4,\n",
       " 'equation': 'The quadratic equation is: 4x^2 + -5x + -4 = 0',\n",
       " 'discriminant': 89,\n",
       " 'result': 'The roots are 1.8042476415070754 and -0.5542476415070754'}"
      ]
     },
     "execution_count": 35,
     "metadata": {},
     "output_type": "execute_result"
    }
   ],
   "source": [
    "workflow.invoke(initial_state)"
   ]
  },
  {
   "cell_type": "code",
   "execution_count": null,
   "id": "6bb01deb",
   "metadata": {},
   "outputs": [],
   "source": []
  }
 ],
 "metadata": {
  "kernelspec": {
   "display_name": "langgraph-campusx",
   "language": "python",
   "name": "python3"
  },
  "language_info": {
   "codemirror_mode": {
    "name": "ipython",
    "version": 3
   },
   "file_extension": ".py",
   "mimetype": "text/x-python",
   "name": "python",
   "nbconvert_exporter": "python",
   "pygments_lexer": "ipython3",
   "version": "3.12.7"
  }
 },
 "nbformat": 4,
 "nbformat_minor": 5
}
