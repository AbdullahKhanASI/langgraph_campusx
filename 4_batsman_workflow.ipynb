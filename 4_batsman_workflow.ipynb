{
 "cells": [
  {
   "cell_type": "code",
   "execution_count": 1,
   "id": "eaf3c9e6",
   "metadata": {},
   "outputs": [],
   "source": [
    "from langgraph.graph import StateGraph, START, END\n",
    "from typing import TypedDict\n",
    "from langchain_openai import ChatOpenAI\n",
    "from dotenv import load_dotenv\n",
    "from langchain.prompts import PromptTemplate\n",
    "import os"
   ]
  },
  {
   "cell_type": "code",
   "execution_count": 2,
   "id": "488a8530",
   "metadata": {},
   "outputs": [
    {
     "data": {
      "text/plain": [
       "True"
      ]
     },
     "execution_count": 2,
     "metadata": {},
     "output_type": "execute_result"
    }
   ],
   "source": [
    "load_dotenv()"
   ]
  },
  {
   "cell_type": "code",
   "execution_count": 3,
   "id": "ee985e4f",
   "metadata": {},
   "outputs": [],
   "source": [
    "model = ChatOpenAI()"
   ]
  },
  {
   "cell_type": "code",
   "execution_count": 4,
   "id": "8306519d",
   "metadata": {},
   "outputs": [],
   "source": [
    "class BatsmanState(TypedDict):\n",
    "    runs: int\n",
    "    balls: int\n",
    "    fours: int\n",
    "    sixes: int\n",
    "    \n",
    "    strike_rate: float\n",
    "    balls_per_boundary: float\n",
    "    boundary_percentage: float\n",
    "    \n",
    "    summary: str"
   ]
  },
  {
   "cell_type": "code",
   "execution_count": 5,
   "id": "ba929bf3",
   "metadata": {},
   "outputs": [],
   "source": [
    "def calculate_strike_rate(state: BatsmanState):\n",
    "    sr = (state[\"runs\"] / state[\"balls\"]) * 100\n",
    "    return {\"strike_rate\": round(sr, 2)}\n",
    "\n",
    "def calculate_balls_per_boundary(state: BatsmanState):\n",
    "    if state[\"fours\"] + state[\"sixes\"] > 0:\n",
    "        bpb = state[\"balls\"] / (state[\"fours\"] + state[\"sixes\"])\n",
    "    else:\n",
    "        bpb = state[\"balls\"]\n",
    "    return {\"balls_per_boundary\": round(bpb, 2)}\n",
    "\n",
    "def calculate_boundary_percentage(state: BatsmanState):\n",
    "    if state[\"balls\"] > 0:\n",
    "        bp = ((state[\"fours\"] + state[\"sixes\"]) / state[\"balls\"]) * 100\n",
    "    else:\n",
    "        bp = 0\n",
    "    return {\"boundary_percentage\": round(bp, 2)}\n",
    "\n",
    "def summary(state: BatsmanState) -> str:\n",
    "    summary = f\"\"\"\n",
    "    Runs: {state['runs']},\n",
    "    Balls: {state['balls']},\n",
    "    Fours: {state['fours']},\n",
    "    Sixes: {state['sixes']},\n",
    "    Strike Rate: {state['strike_rate']:.2f},\n",
    "    Balls per Boundary: {state['balls_per_boundary']:.2f},\n",
    "    Boundary Percentage: {state['boundary_percentage']:.2f}\n",
    "    \"\"\"\n",
    "    return {\"summary\": summary}"
   ]
  },
  {
   "cell_type": "code",
   "execution_count": 6,
   "id": "79996def",
   "metadata": {},
   "outputs": [],
   "source": [
    "# Define the graph\n",
    "graph = StateGraph(BatsmanState)\n",
    "\n",
    "# Add the nodes\n",
    "graph.add_node(\"calculate_strike_rate\", calculate_strike_rate)\n",
    "graph.add_node(\"calculate_balls_per_boundary\", calculate_balls_per_boundary)\n",
    "graph.add_node(\"calculate_boundary_percentage\", calculate_boundary_percentage)\n",
    "graph.add_node(\"summary\", summary)\n",
    "\n",
    "# Define the edges\n",
    "graph.add_edge(START, \"calculate_strike_rate\")\n",
    "graph.add_edge(START, \"calculate_balls_per_boundary\")\n",
    "graph.add_edge(START, \"calculate_boundary_percentage\")\n",
    "\n",
    "graph.add_edge(\"calculate_strike_rate\", \"summary\")\n",
    "graph.add_edge(\"calculate_balls_per_boundary\", \"summary\")\n",
    "graph.add_edge(\"calculate_boundary_percentage\", \"summary\")\n",
    "graph.add_edge(\"summary\", END)\n",
    "\n",
    "# Compile the graph\n",
    "workflow = graph.compile()"
   ]
  },
  {
   "cell_type": "code",
   "execution_count": 7,
   "id": "cd43288c",
   "metadata": {},
   "outputs": [
    {
     "data": {
      "image/png": "[encoded data removed]",
      "text/plain": [
       "<langgraph.graph.state.CompiledStateGraph object at 0x110cdb6b0>"
      ]
     },
     "execution_count": 7,
     "metadata": {},
     "output_type": "execute_result"
    }
   ],
   "source": [
    "workflow"
   ]
  },
  {
   "cell_type": "code",
   "execution_count": 8,
   "id": "fe81c158",
   "metadata": {},
   "outputs": [
    {
     "data": {
      "text/plain": [
       "{'runs': 114,\n",
       " 'balls': 87,\n",
       " 'fours': 12,\n",
       " 'sixes': 4,\n",
       " 'strike_rate': 131.03,\n",
       " 'balls_per_boundary': 5.44,\n",
       " 'boundary_percentage': 18.39,\n",
       " 'summary': '\\n    Runs: 114,\\n    Balls: 87,\\n    Fours: 12,\\n    Sixes: 4,\\n    Strike Rate: 131.03,\\n    Balls per Boundary: 5.44,\\n    Boundary Percentage: 18.39\\n    '}"
      ]
     },
     "execution_count": 8,
     "metadata": {},
     "output_type": "execute_result"
    }
   ],
   "source": [
    "initial_state = {\n",
    "    \"runs\": 114,\n",
    "    \"balls\": 87,\n",
    "    \"fours\": 12,\n",
    "    \"sixes\": 4\n",
    "}\n",
    "\n",
    "workflow.invoke(initial_state)"
   ]
  },
  {
   "cell_type": "code",
   "execution_count": null,
   "id": "924a9c7a",
   "metadata": {},
   "outputs": [],
   "source": []
  }
 ],
 "metadata": {
  "kernelspec": {
   "display_name": "langgraph-campusx",
   "language": "python",
   "name": "python3"
  },
  "language_info": {
   "codemirror_mode": {
    "name": "ipython",
    "version": 3
   },
   "file_extension": ".py",
   "mimetype": "text/x-python",
   "name": "python",
   "nbconvert_exporter": "python",
   "pygments_lexer": "ipython3",
   "version": "3.12.7"
  }
 },
 "nbformat": 4,
 "nbformat_minor": 5
}
