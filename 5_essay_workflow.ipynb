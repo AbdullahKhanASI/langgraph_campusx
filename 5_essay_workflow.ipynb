{
 "cells": [
  {
   "cell_type": "code",
   "execution_count": 48,
   "id": "787a3873",
   "metadata": {},
   "outputs": [],
   "source": [
    "from langgraph.graph import StateGraph, START, END\n",
    "from typing import TypedDict\n",
    "from langchain_openai import ChatOpenAI\n",
    "from dotenv import load_dotenv\n",
    "from langchain.prompts import PromptTemplate\n",
    "import os\n",
    "from pydantic import BaseModel, Field\n",
    "import operator\n",
    "from typing import Annotated"
   ]
  },
  {
   "cell_type": "code",
   "execution_count": 49,
   "id": "9d09e830",
   "metadata": {},
   "outputs": [
    {
     "name": "stdout",
     "output_type": "stream",
     "text": [
      "LangSmith tracing enabled for project: essay-evaluation-workflow\n"
     ]
    }
   ],
   "source": [
    "load_dotenv()\n",
    "\n",
    "os.environ[\"LANGCHAIN_TRACING_V2\"] = os.getenv(\"LANGCHAIN_TRACING_V2\", \"true\")\n",
    "os.environ[\"LANGCHAIN_PROJECT\"] = os.getenv(\"LANGCHAIN_PROJECT\", \"essay-evaluation-workflow\")\n",
    "\n",
    "if not os.getenv(\"LANGCHAIN_API_KEY\"):\n",
    "    raise ValueError(\"Missing LANGCHAIN_API_KEY for LangSmith tracing.\")\n",
    "\n",
    "print(f\"LangSmith tracing enabled for project: {os.environ['LANGCHAIN_PROJECT']}\")\n"
   ]
  },
  {
   "cell_type": "code",
   "execution_count": 50,
   "id": "53060f00",
   "metadata": {},
   "outputs": [],
   "source": [
    "model = ChatOpenAI(model=\"gpt-4o-mini\")"
   ]
  },
  {
   "cell_type": "code",
   "execution_count": 51,
   "id": "a59da735",
   "metadata": {},
   "outputs": [
    {
     "data": {
      "text/plain": [
       "ChatOpenAI(client=<openai.resources.chat.completions.completions.Completions object at 0x10f6af2f0>, async_client=<openai.resources.chat.completions.completions.AsyncCompletions object at 0x10f6ac4a0>, root_client=<openai.OpenAI object at 0x10f6a4f20>, root_async_client=<openai.AsyncOpenAI object at 0x10f6adcd0>, model_name='gpt-4o-mini', model_kwargs={}, openai_api_key=SecretStr('**********'))"
      ]
     },
     "execution_count": 51,
     "metadata": {},
     "output_type": "execute_result"
    }
   ],
   "source": [
    "model"
   ]
  },
  {
   "cell_type": "code",
   "execution_count": 52,
   "id": "ecefd36d",
   "metadata": {},
   "outputs": [],
   "source": [
    "class EvaluationSchema(BaseModel):\n",
    "    score: int = Field(..., ge=1, le=10, description=\"Score between 1 and 10\")\n",
    "    feedback: str = Field(..., description=\"Detailed feedback on the essay\")"
   ]
  },
  {
   "cell_type": "code",
   "execution_count": 53,
   "id": "f8562739",
   "metadata": {},
   "outputs": [],
   "source": [
    "structured_model = model.with_structured_output(EvaluationSchema)"
   ]
  },
  {
   "cell_type": "code",
   "execution_count": 54,
   "id": "1f2e7b53",
   "metadata": {},
   "outputs": [],
   "source": [
    "essay = \"\"\"\n",
    "India in the Age of AI\n",
    "\n",
    "As the world enters a transformative era defined by artificial intelligence (AI), India stands at a critical juncture — one where it can either emerge as a global leader in AI innovation or risk falling behind in the technology race. The age of AI brings with it immense promise as well as unprecedented challenges, and how India navigates this landscape will shape its socio-economic and geopolitical future.\n",
    "\n",
    "India's strengths in the AI domain are rooted in its vast pool of skilled engineers, a thriving IT industry, and a growing startup ecosystem. With over 5 million STEM graduates annually and a burgeoning base of AI researchers, India possesses the intellectual capital required to build cutting-edge AI systems. Institutions like IITs, IIITs, and IISc have begun fostering AI research, while private players such as TCS, Infosys, and Wipro are integrating AI into their global services. In 2020, the government launched the National AI Strategy (AI for All) with a focus on inclusive growth, aiming to leverage AI in healthcare, agriculture, education, and smart mobility.\n",
    "\n",
    "One of the most promising applications of AI in India lies in agriculture, where predictive analytics can guide farmers on optimal sowing times, weather forecasts, and pest control. In healthcare, AI-powered diagnostics can help address India’s doctor-patient ratio crisis, particularly in rural areas. Educational platforms are increasingly using AI to personalize learning paths, while smart governance tools are helping improve public service delivery and fraud detection.\n",
    "\n",
    "However, the path to AI-led growth is riddled with challenges. Chief among them is the digital divide. While metropolitan cities may embrace AI-driven solutions, rural India continues to struggle with basic internet access and digital literacy. The risk of job displacement due to automation also looms large, especially for low-skilled workers. Without effective skilling and re-skilling programs, AI could exacerbate existing socio-economic inequalities.\n",
    "\n",
    "Another pressing concern is data privacy and ethics. As AI systems rely heavily on vast datasets, ensuring that personal data is used transparently and responsibly becomes vital. India is still shaping its data protection laws, and in the absence of a strong regulatory framework, AI systems may risk misuse or bias.\n",
    "\n",
    "To harness AI responsibly, India must adopt a multi-stakeholder approach involving the government, academia, industry, and civil society. Policies should promote open datasets, encourage responsible innovation, and ensure ethical AI practices. There is also a need for international collaboration, particularly with countries leading in AI research, to gain strategic advantage and ensure interoperability in global systems.\n",
    "\n",
    "India’s demographic dividend, when paired with responsible AI adoption, can unlock massive economic growth, improve governance, and uplift marginalized communities. But this vision will only materialize if AI is seen not merely as a tool for automation, but as an enabler of human-centered development.\n",
    "\n",
    "In conclusion, India in the age of AI is a story in the making — one of opportunity, responsibility, and transformation. The decisions we make today will not just determine India’s AI trajectory, but also its future as an inclusive, equitable, and innovation-driven society.\n",
    "\"\"\""
   ]
  },
  {
   "cell_type": "code",
   "execution_count": 55,
   "id": "2ff8f239",
   "metadata": {},
   "outputs": [],
   "source": [
    "prompt = f'Evaluate the language quality of the following essay and provide a feedback and assign a score out of 10 \\n {essay}'"
   ]
  },
  {
   "cell_type": "code",
   "execution_count": 56,
   "id": "26206436",
   "metadata": {},
   "outputs": [
    {
     "data": {
      "text/plain": [
       "AIMessage(content='### Feedback on the Essay \\n\\n**Language Quality Evaluation:** \\n\\n1. **Clarity and Cohesion:** The essay presents a clear and well-structured argument regarding the opportunities and challenges that India faces in the realm of artificial intelligence. Each paragraph transitions smoothly into the next, which helps maintain the reader\\'s engagement. Concepts are explained logically, resulting in a coherent overall argument.\\n\\n2. **Use of Evidence:** The essay effectively utilizes statistics and examples, such as India\\'s annual STEM graduates and references to institutions like IITs, which bolster claims and provide concrete evidence to support arguments. Mentioning specific applications of AI in agriculture, healthcare, and education illustrates the practical implications of the topic well.\\n\\n3. **Grammar and Syntax:** The essay is largely free from grammatical errors. Sentence structure varies, which adds to the essay\\'s readability. The use of complex sentences is generally effective, contributing to a formal tone appropriate for the topic.\\n\\n4. **Vocabulary:** The vocabulary is appropriately academic, with some sophisticated terminology that aligns well with the subject matter (e.g., \"predictive analytics,\" \"digital divide,\" \"responsible innovation\"). However, there\\'s room to diversify vocabulary further to avoid repetition and enhance sophistication.\\n\\n5. **Analytical Depth:** The essay does an excellent job of analyzing both strengths and challenges, giving a balanced view. However, it could benefit from slightly more depth in discussing potential solutions for the challenges listed, particularly in relation to the digital divide and data privacy.\\n\\n6. **Conclusion:** The conclusion summarizes the main points effectively and posits a reflective perspective on India’s future with AI. The closing statement emphasizes the importance of human-centered development, aligning well with the essay\\'s themes.\\n\\n### Score: 8.5/10\\n\\n### Suggestions for Improvement:\\n1. **Enhance Vocabulary:** Incorporate a wider range of vocabulary to elevate the writing style further.\\n2. **Provide More Specific Solutions:** Offering specific examples of potential programs or initiatives to address challenges could strengthen the arguments.\\n3. **Expand on Ethics and Privacy:** A deeper exploration of ethical considerations and examples of how other countries address these issues could improve the analysis.\\n4. **Proofread for Minor Repeats:** Ensure there are no repetitive phrases throughout the essay, particularly in the discussion of similar themes across different paragraphs.\\n\\nOverall, this essay demonstrates strong writing skills and an understanding of the complexities involved in India\\'s AI landscape but could be further enhanced with additional depth in certain areas.', additional_kwargs={'refusal': None}, response_metadata={'token_usage': {'completion_tokens': 488, 'prompt_tokens': 645, 'total_tokens': 1133, 'completion_tokens_details': {'accepted_prediction_tokens': 0, 'audio_tokens': 0, 'reasoning_tokens': 0, 'rejected_prediction_tokens': 0}, 'prompt_tokens_details': {'audio_tokens': 0, 'cached_tokens': 0}}, 'model_name': 'gpt-4o-mini-2024-07-18', 'system_fingerprint': 'fp_560af6e559', 'id': 'chatcmpl-CJGw71pxHRvlHPUyOqG35fFS0fy6w', 'service_tier': 'default', 'finish_reason': 'stop', 'logprobs': None}, id='run--ff76fa45-21d3-4f18-b7af-4133db636791-0', usage_metadata={'input_tokens': 645, 'output_tokens': 488, 'total_tokens': 1133, 'input_token_details': {'audio': 0, 'cache_read': 0}, 'output_token_details': {'audio': 0, 'reasoning': 0}})"
      ]
     },
     "execution_count": 56,
     "metadata": {},
     "output_type": "execute_result"
    }
   ],
   "source": [
    "# Withoout structured output\n",
    "model.invoke(prompt)"
   ]
  },
  {
   "cell_type": "code",
   "execution_count": 57,
   "id": "cdc943fc",
   "metadata": {},
   "outputs": [
    {
     "data": {
      "text/plain": [
       "EvaluationSchema(score=9, feedback=\"The essay presents a coherent and insightful analysis of India's position in the age of AI, effectively highlighting both its strengths and challenges. The language quality is high, with clear, concise sentences and a good variety of vocabulary. The introduction draws in the reader by setting the context and posing a critical question, while the body of the essay is well-structured with logical flow and transitions between points.\\n\\nThe use of specific data, such as the number of STEM graduates, enhances the argument and provides credibility to the assertions made. Each application of AI discussed (in agriculture, healthcare, and education) is relevant and well-explained, illustrating significant real-world impacts. The recognition of challenges, such as the digital divide and data privacy, adds depth to the analysis, showing a nuanced understanding of the subject.\\n\\nImprovements could include a more detailed exploration of potential solutions to the challenges mentioned, as this would provide a fuller picture of how India can move forward. Additionally, a concluding remark emphasizing action steps or the urgency of adopting responsible AI practices would reinforce the message.\\n\\nOverall, this essay reflects a strong command of language and a comprehensive understanding of the topic, warranting a score of 9 out of 10.\")"
      ]
     },
     "execution_count": 57,
     "metadata": {},
     "output_type": "execute_result"
    }
   ],
   "source": [
    "# With structured output\n",
    "structured_model.invoke(prompt)"
   ]
  },
  {
   "cell_type": "code",
   "execution_count": 58,
   "id": "8e7edc67",
   "metadata": {},
   "outputs": [],
   "source": [
    "# Create essay class\n",
    "class UPSCState(TypedDict):\n",
    "    essay: str\n",
    "    language_feedback: str\n",
    "    analysis_feedback: str\n",
    "    clarity_feedback: str\n",
    "    overall_feedback: str\n",
    "    individual_scores: Annotated[list[int], operator.add]\n",
    "    avg_score: float"
   ]
  },
  {
   "cell_type": "code",
   "execution_count": 59,
   "id": "99cac480",
   "metadata": {},
   "outputs": [],
   "source": [
    "def evaluate_language(state: UPSCState):\n",
    "    prompt = f'Evaluate the language quality of the following essay and provide a feedback and assign a score out of 10 \\n {state[\"essay\"]}'\n",
    "    result = structured_model.invoke(prompt)\n",
    "    return {\"language_feedback\": result.feedback, \"individual_scores\": [result.score]}"
   ]
  },
  {
   "cell_type": "code",
   "execution_count": 60,
   "id": "d24d3a08",
   "metadata": {},
   "outputs": [],
   "source": [
    "def evaluate_analysis(state: UPSCState):\n",
    "    prompt = f'Evaluate the depth of analysis quality of the following essay and provide a feedback and assign a score out of 10 \\n {state[\"essay\"]}'\n",
    "    result = structured_model.invoke(prompt)\n",
    "    return {\"analysis_feedback\": result.feedback, \"individual_scores\": [result.score]}"
   ]
  },
  {
   "cell_type": "code",
   "execution_count": 61,
   "id": "59057f2c",
   "metadata": {},
   "outputs": [],
   "source": [
    "def evaluate_clarity(state: UPSCState):\n",
    "    prompt = f'Evaluate the clarity of thought of the following essay and provide a feedback and assign a score out of 10 \\n {state[\"essay\"]}'\n",
    "    result = structured_model.invoke(prompt)\n",
    "    return {\"clarity_feedback\": result.feedback, \"individual_scores\": [result.score]}"
   ]
  },
  {
   "cell_type": "code",
   "execution_count": 62,
   "id": "6e90e87e",
   "metadata": {},
   "outputs": [],
   "source": [
    "def overall_evaluation(state: UPSCState):\n",
    "\n",
    "    # summary feedback\n",
    "    prompt = f'Based on the following feedbacks create a summarized feedback \\n language feedback - {state[\"language_feedback\"]} \\n depth of analysis feedback - {state[\"analysis_feedback\"]} \\n clarity of thought feedback - {state[\"clarity_feedback\"]}'\n",
    "    overall_feedback = model.invoke(prompt).content\n",
    "\n",
    "    # avg calculate\n",
    "    avg_score = sum(state['individual_scores'])/len(state['individual_scores'])\n",
    "\n",
    "    return {'overall_feedback': overall_feedback, 'avg_score': avg_score}"
   ]
  },
  {
   "cell_type": "code",
   "execution_count": 63,
   "id": "a04cd3ab",
   "metadata": {},
   "outputs": [],
   "source": [
    "# Create graph\n",
    "graph = StateGraph(UPSCState)\n",
    "\n",
    "# Add nodes\n",
    "graph.add_node('evaluate_language', evaluate_language)\n",
    "graph.add_node('evaluate_analysis', evaluate_analysis)\n",
    "graph.add_node('evaluate_clarity', evaluate_clarity)\n",
    "graph.add_node('overall_evaluation', overall_evaluation)\n",
    "\n",
    "# Define edges\n",
    "graph.add_edge(START, 'evaluate_language')\n",
    "graph.add_edge(START, 'evaluate_analysis')\n",
    "graph.add_edge(START, 'evaluate_clarity')\n",
    "\n",
    "graph.add_edge('evaluate_language', 'overall_evaluation')\n",
    "graph.add_edge('evaluate_analysis', 'overall_evaluation')\n",
    "graph.add_edge('evaluate_clarity', 'overall_evaluation')\n",
    "\n",
    "graph.add_edge('overall_evaluation', END)\n",
    "\n",
    "# Compile graph\n",
    "workflow = graph.compile().with_config({\"run_name\": \"EssayEvaluationWorkflow\"})\n"
   ]
  },
  {
   "cell_type": "code",
   "execution_count": 64,
   "id": "a1178996",
   "metadata": {},
   "outputs": [],
   "source": [
    "initial_state = {\"essay\": essay}"
   ]
  },
  {
   "cell_type": "code",
   "execution_count": 65,
   "id": "8fe8676d",
   "metadata": {},
   "outputs": [
    {
     "data": {
      "text/plain": [
       "{'essay': \"\\nIndia in the Age of AI\\n\\nAs the world enters a transformative era defined by artificial intelligence (AI), India stands at a critical juncture — one where it can either emerge as a global leader in AI innovation or risk falling behind in the technology race. The age of AI brings with it immense promise as well as unprecedented challenges, and how India navigates this landscape will shape its socio-economic and geopolitical future.\\n\\nIndia's strengths in the AI domain are rooted in its vast pool of skilled engineers, a thriving IT industry, and a growing startup ecosystem. With over 5 million STEM graduates annually and a burgeoning base of AI researchers, India possesses the intellectual capital required to build cutting-edge AI systems. Institutions like IITs, IIITs, and IISc have begun fostering AI research, while private players such as TCS, Infosys, and Wipro are integrating AI into their global services. In 2020, the government launched the National AI Strategy (AI for All) with a focus on inclusive growth, aiming to leverage AI in healthcare, agriculture, education, and smart mobility.\\n\\nOne of the most promising applications of AI in India lies in agriculture, where predictive analytics can guide farmers on optimal sowing times, weather forecasts, and pest control. In healthcare, AI-powered diagnostics can help address India’s doctor-patient ratio crisis, particularly in rural areas. Educational platforms are increasingly using AI to personalize learning paths, while smart governance tools are helping improve public service delivery and fraud detection.\\n\\nHowever, the path to AI-led growth is riddled with challenges. Chief among them is the digital divide. While metropolitan cities may embrace AI-driven solutions, rural India continues to struggle with basic internet access and digital literacy. The risk of job displacement due to automation also looms large, especially for low-skilled workers. Without effective skilling and re-skilling programs, AI could exacerbate existing socio-economic inequalities.\\n\\nAnother pressing concern is data privacy and ethics. As AI systems rely heavily on vast datasets, ensuring that personal data is used transparently and responsibly becomes vital. India is still shaping its data protection laws, and in the absence of a strong regulatory framework, AI systems may risk misuse or bias.\\n\\nTo harness AI responsibly, India must adopt a multi-stakeholder approach involving the government, academia, industry, and civil society. Policies should promote open datasets, encourage responsible innovation, and ensure ethical AI practices. There is also a need for international collaboration, particularly with countries leading in AI research, to gain strategic advantage and ensure interoperability in global systems.\\n\\nIndia’s demographic dividend, when paired with responsible AI adoption, can unlock massive economic growth, improve governance, and uplift marginalized communities. But this vision will only materialize if AI is seen not merely as a tool for automation, but as an enabler of human-centered development.\\n\\nIn conclusion, India in the age of AI is a story in the making — one of opportunity, responsibility, and transformation. The decisions we make today will not just determine India’s AI trajectory, but also its future as an inclusive, equitable, and innovation-driven society.\\n\",\n",
       " 'language_feedback': \"The essay presents a well-structured argument about India's position in the AI landscape, highlighting both opportunities and challenges. The language is clear, formal, and appropriate for an academic audience. The use of specific examples, such as references to IITs and various sectors like agriculture and healthcare, effectively supports the claims made. However, the essay could further benefit from more nuanced exploration of counterarguments, especially regarding the challenges posed by AI, in order to provide a more balanced perspective. Additionally, some sections could be enhanced with more engaging language or rhetorical devices to draw readers in more effectively. Overall, it's a strong essay with room for improvement.\",\n",
       " 'analysis_feedback': \"The essay provides a comprehensive analysis of India's position in the artificial intelligence landscape, highlighting both its strengths and challenges. The incorporation of specifics, such as the role of educational institutes and the National AI Strategy, adds depth to the analysis. Furthermore, it effectively details the potential of AI in sectors like agriculture and healthcare, illustrating practical applications that could benefit the country. \\n\\nHowever, while the essay does touch upon important challenges, such as the digital divide and ethical concerns, a deeper exploration of these topics could enhance the analysis. For example, elaborating on potential strategies to address the digital divide or more concrete regulatory recommendations could enrich the discussion. Additionally, some areas could benefit from statistical support or real-world examples to strengthen claims. Overall, the essay successfully communicates the complexities of AI's role in India and its implications, but further depth on challenges and solutions would elevate the analysis.\",\n",
       " 'clarity_feedback': \"The essay presents a clear and comprehensive overview of the potential and challenges of AI in India. The introduction effectively sets the stage while the body elaborates on India's strengths, promising applications, and associated challenges clearly. The structure is logical; it flows seamlessly from strengths to challenges and proposals for responsible adoption of AI. \\n\\n### Strengths:\\n- **Clarity of arguments:** Each point is well-articulated with relevant examples, making it easy to understand the ramifications of AI in various sectors like agriculture, healthcare, and education.\\n- **Balanced view:** The essay acknowledges both the opportunities and the challenges posed by AI, such as the digital divide and ethical concerns, which provides a nuanced perspective.\\n- **Call to action:** It concludes with a strong call for collective action, recognizing the multi-stakeholder approach needed for responsible AI deployment.\\n\\n### Areas for Improvement:\\n- **Transition and connections:** While the sections are distinct, smoother transitions between some points could enhance overall coherence.\\n- **In-depth examples:** While examples are mentionable, some could be expanded to illustrate the points better (e.g., discussing specific AI applications currently in use).\\n- **Conclusion elaboration:** The conclusion is insightful but slightly vague regarding the specific actions needed to achieve the proposed vision, which could fortify the argument if addressed.\\n\\nOverall, it’s a strong essay that demonstrates clarity of thought and a sound understanding of the subject matter.\",\n",
       " 'overall_feedback': \"**Summary of Feedback:**\\n\\nThe essay presents a well-structured and clear argument about India's position in the AI landscape, effectively highlighting both the opportunities and challenges. It uses specific examples, such as references to IITs and applications in agriculture and healthcare, to substantiate its claims. The clarity of language and formal tone are appropriate for an academic audience, making the complexities of AI's role in India easy to understand.\\n\\n**Strengths:**\\n- Comprehensive analysis that incorporates key elements like the National AI Strategy and the implications of AI across various sectors.\\n- Balanced perspective acknowledging both the potential benefits and significant challenges, such as the digital divide and ethical concerns.\\n- Strong conclusion with a call to action, urging a collective approach for responsible AI deployment.\\n\\n**Areas for Improvement:**\\n- The essay could benefit from a more nuanced exploration of counterarguments, particularly regarding the challenges of AI, to provide a balanced view.\\n- Deeper analysis of specific challenges with proposed strategies or regulatory recommendations would enhance the discussion.\\n- Enhanced engagement through more dynamic language and smoother transitions between points could improve readability.\\n- Some examples could be elaborated upon for greater impact, and the conclusion could specify more concrete actions needed to achieve the proposed vision.\\n\\nOverall, while the essay is strong and demonstrates a clear understanding of the subject, it has room for improvement in depth of analysis and engagement strategies.\",\n",
       " 'individual_scores': [8, 8, 8],\n",
       " 'avg_score': 8.0}"
      ]
     },
     "execution_count": 65,
     "metadata": {},
     "output_type": "execute_result"
    }
   ],
   "source": [
    "workflow.invoke(initial_state)"
   ]
  },
  {
   "cell_type": "markdown",
   "id": "a1cf4fa9",
   "metadata": {},
   "source": [
    "### Test with a bad essay"
   ]
  },
  {
   "cell_type": "code",
   "execution_count": 66,
   "id": "9c0101bd",
   "metadata": {},
   "outputs": [],
   "source": [
    "essay2 = \"\"\"India and AI Time\n",
    "\n",
    "Now world change very fast because new tech call Artificial Intel… something (AI). India also want become big in this AI thing. If work hard, India can go top. But if no careful, India go back.\n",
    "\n",
    "India have many good. We have smart student, many engine-ear, and good IT peoples. Big company like TCS, Infosys, Wipro already use AI. Government also do program “AI for All”. It want AI in farm, doctor place, school and transport.\n",
    "\n",
    "In farm, AI help farmer know when to put seed, when rain come, how stop bug. In health, AI help doctor see sick early. In school, AI help student learn good. Government office use AI to find bad people and work fast.\n",
    "\n",
    "But problem come also. First is many villager no have phone or internet. So AI not help them. Second, many people lose job because AI and machine do work. Poor people get more bad.\n",
    "\n",
    "One more big problem is privacy. AI need big big data. Who take care? India still make data rule. If no strong rule, AI do bad.\n",
    "\n",
    "India must all people together – govern, school, company and normal people. We teach AI and make sure AI not bad. Also talk to other country and learn from them.\n",
    "\n",
    "If India use AI good way, we become strong, help poor and make better life. But if only rich use AI, and poor no get, then big bad thing happen.\n",
    "\n",
    "So, in short, AI time in India have many hope and many danger. We must go right road. AI must help all people, not only some. Then India grow big and world say \"good job India\".\"\"\""
   ]
  },
  {
   "cell_type": "code",
   "execution_count": 67,
   "id": "e2352e74",
   "metadata": {},
   "outputs": [
    {
     "data": {
      "text/plain": [
       "{'essay': 'India and AI Time\\n\\nNow world change very fast because new tech call Artificial Intel… something (AI). India also want become big in this AI thing. If work hard, India can go top. But if no careful, India go back.\\n\\nIndia have many good. We have smart student, many engine-ear, and good IT peoples. Big company like TCS, Infosys, Wipro already use AI. Government also do program “AI for All”. It want AI in farm, doctor place, school and transport.\\n\\nIn farm, AI help farmer know when to put seed, when rain come, how stop bug. In health, AI help doctor see sick early. In school, AI help student learn good. Government office use AI to find bad people and work fast.\\n\\nBut problem come also. First is many villager no have phone or internet. So AI not help them. Second, many people lose job because AI and machine do work. Poor people get more bad.\\n\\nOne more big problem is privacy. AI need big big data. Who take care? India still make data rule. If no strong rule, AI do bad.\\n\\nIndia must all people together – govern, school, company and normal people. We teach AI and make sure AI not bad. Also talk to other country and learn from them.\\n\\nIf India use AI good way, we become strong, help poor and make better life. But if only rich use AI, and poor no get, then big bad thing happen.\\n\\nSo, in short, AI time in India have many hope and many danger. We must go right road. AI must help all people, not only some. Then India grow big and world say \"good job India\".',\n",
       " 'language_feedback': 'The essay addresses an important topic about AI and its potential impact on India. However, it suffers from several issues that affect its language quality and coherence. Here are some points of feedback:\\n\\n1. **Clarity and Grammar**: There are numerous grammatical mistakes and awkward phrases, such as \"new tech call Artificial Intel… something (AI)\" and \"If work hard, India can go top\". The essay would benefit from clearer sentence structures and proper use of verbs and nouns.\\n\\n2. **Logical Flow**: The essay has a basic structure, but the flow of ideas can be confusing. For instance, points about the benefits and problems of AI are mixed together rather than being organized logically into distinct sections.\\n\\n3. **Vocabulary**: The word choice is quite simple and lacks variety. Using more precise vocabulary would enhance the readability and professionalism of the essay. Words like \"big\" and \"good\" appear too frequently without elaboration.\\n\\n4. **Depth of Analysis**: While the essay mentions various applications of AI and issues surrounding it, it lacks depth. The points made are somewhat superficial and would benefit from examples or more detailed explanations.\\n\\n5. **Formatting and Presentation**: The formatting could be improved for better readability, such as using paragraphs to separate distinct ideas or sections.\\n\\nIn conclusion, while the essay makes a commendable attempt to tackle its subject, significant improvements in clarity, grammar, vocabulary, and structure are necessary for higher language quality.',\n",
       " 'analysis_feedback': 'The essay presents a basic overview of the potential benefits and challenges of artificial intelligence (AI) in India, but lacks depth of analysis and critical engagement with the topic. While it identifies some important issues, such as the digital divide, job displacement, and privacy concerns, the arguments are underdeveloped and lack supporting evidence or examples. The writing is also informal and contains grammatical errors that detract from the clarity of the message. To improve, the essay should provide more detailed explanations, offer examples of successful AI implementations, and analyze the implications of the identified challenges in greater depth.',\n",
       " 'clarity_feedback': 'The essay presents a basic understanding of the impact of AI in India but lacks clarity and coherence in its arguments. While it addresses both the potentials and challenges of AI, the phrasing is often vague and the organization is weak. Ideas are presented rather chaotically, making it difficult to follow the argument. Additionally, there are numerous grammatical errors and informal language that detract from its overall professionalism. To improve, the essay should be more structured, with clearly defined sections for introduction, body, and conclusion, as well as a greater emphasis on clarity and formal language.',\n",
       " 'overall_feedback': \"**Summarized Feedback:**\\n\\nThe essay addresses the significant topic of artificial intelligence (AI) and its potential impact on India, but it requires substantial improvements in various areas to enhance both language quality and depth of analysis.\\n\\n1. **Clarity and Coherence**: The essay presents a basic understanding of AI's effects but lacks clear organization and logical flow. Ideas are often presented chaotically, making it challenging for the reader to follow the argument.\\n\\n2. **Grammar and Language**: Numerous grammatical errors and awkward phrasing diminish the clarity and professionalism of the writing. Simplistic vocabulary and informal language further detract from the essay's quality. \\n\\n3. **Depth of Analysis**: Although the essay identifies key issues such as the digital divide and job displacement, the arguments are underdeveloped and lack supporting evidence or examples. A deeper analysis of these challenges, along with examples of successful AI applications, would strengthen the essay.\\n\\n4. **Formatting**: Improved formatting, including the use of distinct paragraphs for different ideas, would enhance readability.\\n\\nIn summary, while the essay makes a commendable effort in exploring the subject, significant revisions in clarity, structure, grammar, vocabulary, and analytical depth are essential for a more coherent and professional presentation.\",\n",
       " 'individual_scores': [4, 4, 4],\n",
       " 'avg_score': 4.0}"
      ]
     },
     "execution_count": 67,
     "metadata": {},
     "output_type": "execute_result"
    }
   ],
   "source": [
    "initial_state = {\"essay\": essay2}\n",
    "\n",
    "workflow.invoke(initial_state)"
   ]
  },
  {
   "cell_type": "code",
   "execution_count": null,
   "id": "dfeccbfc",
   "metadata": {},
   "outputs": [],
   "source": []
  }
 ],
 "metadata": {
  "kernelspec": {
   "display_name": "langgraph-campusx",
   "language": "python",
   "name": "python3"
  },
  "language_info": {
   "codemirror_mode": {
    "name": "ipython",
    "version": 3
   },
   "file_extension": ".py",
   "mimetype": "text/x-python",
   "name": "python",
   "nbconvert_exporter": "python",
   "pygments_lexer": "ipython3",
   "version": "3.12.7"
  }
 },
 "nbformat": 4,
 "nbformat_minor": 5
}
